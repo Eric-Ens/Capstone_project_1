{
 "cells": [
  {
   "cell_type": "markdown",
   "metadata": {},
   "source": [
    "# Combining models\n",
    "****\n",
    "Here we will combine the classifier who chose to first classify each observation into a range for 'logerror' and then within each range, run a regression."
   ]
  },
  {
   "cell_type": "code",
   "execution_count": 24,
   "metadata": {},
   "outputs": [],
   "source": [
    "import pandas as pd\n",
    "import numpy as np\n",
    "import random as rnd\n",
    "import matplotlib.gridspec as gridspec\n",
    "import datetime\n",
    "import math\n",
    "import sklearn\n",
    "\n",
    "from sklearn.ensemble import RandomForestClassifier\n",
    "from sklearn.model_selection import train_test_split\n",
    "from sklearn.neighbors import KNeighborsClassifier\n",
    "from sklearn.linear_model import LinearRegression\n",
    "from sklearn.preprocessing import PolynomialFeatures\n",
    "from sklearn.metrics import mean_squared_error, r2_score\n",
    "from sklearn.linear_model import Ridge\n",
    "from sklearn.preprocessing import MinMaxScaler\n",
    "from sklearn.neural_network import MLPRegressor\n",
    "from sklearn.neighbors import KNeighborsRegressor\n",
    "from sklearn.preprocessing import OneHotEncoder\n",
    "from sklearn.preprocessing import StandardScaler\n",
    "from sklearn.preprocessing import LabelEncoder\n",
    "from sklearn import neighbors\n",
    "from imblearn.combine import SMOTETomek\n",
    "from sklearn.ensemble import GradientBoostingClassifier\n",
    "\n",
    "import seaborn as sns\n",
    "import matplotlib.pyplot as plt\n",
    "%matplotlib notebook"
   ]
  },
  {
   "cell_type": "code",
   "execution_count": 25,
   "metadata": {},
   "outputs": [
    {
     "data": {
      "text/plain": [
       "parcelid  Unnamed: 0\n",
       "17073783  0             0.0953\n",
       "17088994  1             0.0198\n",
       "17100444  2             0.0060\n",
       "17102429  3            -0.0566\n",
       "17109604  4             0.0573\n",
       "Name: logerror, dtype: float64"
      ]
     },
     "execution_count": 25,
     "metadata": {},
     "output_type": "execute_result"
    }
   ],
   "source": [
    "Housing = pd.read_csv('cleaned_1.csv')\n",
    "Housing = Housing.set_index(['parcelid','Unnamed: 0'])\n",
    "Housing['transactiondate'] = pd.to_datetime(Housing['transactiondate'], format = '%Y-%m-%d', errors = 'coerce')\n",
    "Housing['taxamount'] = Housing['taxamount']*100\n",
    "#bins = [-5.5,-2,-0.1,0.1,0.75,2,5.5]\n",
    "#Housing['binned'] = pd.cut(Housing['logerror'], bins = bins, labels= bins[1:])\n",
    "#Housing['binned'].value_counts()\n",
    "\n",
    "imp_cols = ['calculatedfinishedsquarefeet', 'latitude','longitude','lotsizesquarefeet','bathroomcnt',\n",
    "            'taxamount','structuretaxvaluedollarcnt', 'taxvaluedollarcnt','landtaxvaluedollarcnt',\n",
    "            'yearbuilt', 'bedroomcnt','buildingqualitytypeid','regionidzip','rawcensustractandblock',\n",
    "            'regionidneighborhood','fips']\n",
    "\n",
    "X_df = Housing[imp_cols].astype(int)\n",
    "Y_df = Housing['logerror']#Housing['binned'].cat.codes\n",
    "\n",
    "X_train, X_test, y_train, y_test = train_test_split(X_df, Y_df)\n",
    "\n",
    "Y_df.head()"
   ]
  },
  {
   "cell_type": "code",
   "execution_count": 26,
   "metadata": {},
   "outputs": [],
   "source": [
    "def fillna_knn( df, base, target, fraction = 1, threshold = 10 ):\n",
    "    assert isinstance( base , list ) or isinstance( base , np.ndarray ) and isinstance( target, str ) \n",
    "    whole = [ target ] + base\n",
    "    \n",
    "    miss = df[target].isnull()\n",
    "    notmiss = ~miss \n",
    "    nummiss = miss.sum()\n",
    "    \n",
    "    enc = OneHotEncoder()\n",
    "    X_target = df.loc[ notmiss, whole ].sample( frac = fraction )\n",
    "    \n",
    "    enc.fit( X_target[ target ].unique().reshape( (-1,1) ) )\n",
    "    \n",
    "    Y = enc.transform( X_target[ target ].values.reshape((-1,1)) ).toarray()\n",
    "    X = X_target[ base  ]\n",
    "    \n",
    "    print( 'fitting' )\n",
    "    n_neighbors = 1\n",
    "    clf = neighbors.KNeighborsClassifier( n_neighbors, weights = 'uniform' )\n",
    "    clf.fit( X, Y )\n",
    "    \n",
    "    print( 'the shape of active features: ' ,enc.active_features_.shape )\n",
    "    \n",
    "    print( 'predicting' )\n",
    "    Z = clf.predict(df.loc[miss, base])\n",
    "    \n",
    "    numunperdicted = Z[:,0].sum()\n",
    "    if numunperdicted / nummiss *100 < threshold :\n",
    "        #print( 'writing result to df' )    \n",
    "        df.loc[ miss, target ]  = np.dot( Z , enc.active_features_ )\n",
    "        #print( 'num of unpredictable data: ', numunperdicted )\n",
    "        return enc\n",
    "    #else:\n",
    "        #print( 'out of threshold: {}% > {}%'.format( numunperdicted / nummiss *100 , threshold ) )\n",
    "\n",
    "def zoningcode_int( df, target ):\n",
    "    storenull = df[ target ].isnull()\n",
    "    enc = LabelEncoder( )\n",
    "    df[ target ] = df[ target ].astype( str )\n",
    "\n",
    "    df[ target ]= enc.fit_transform( df[ target ].values )\n",
    "    df.loc[ storenull, target ] = np.nan\n",
    "    return enc\n",
    "\n",
    "def fillna_knn_reg( df, base, target, n_neighbors = 5 ):\n",
    "    cols = base + [target]\n",
    "    X_train = df[cols]\n",
    "    scaler = StandardScaler(with_mean=True, with_std=True).fit(X_train[base].values.reshape(-1, 1))\n",
    "    rescaledX = scaler.transform(X_train[base].values.reshape(-1, 1))\n",
    "\n",
    "    X_train = rescaledX[df[target].notnull()]\n",
    "    Y_train = df.loc[df[target].notnull(),target].values.reshape(-1, 1)\n",
    "\n",
    "    knn = KNeighborsRegressor(n_neighbors, n_jobs = -1)    \n",
    "    knn.fit(X_train, Y_train)\n",
    "    X_test = rescaledX[df[target].isnull()]\n",
    "    pred = knn.predict(X_test)\n",
    "    df.loc[combined_df[target].isnull(),target] = pred\n",
    "    return"
   ]
  },
  {
   "cell_type": "code",
   "execution_count": 27,
   "metadata": {},
   "outputs": [],
   "source": [
    "def Double_Model(X_predict, X_train, y_train, evalu = False):\n",
    "    # First we will do some cleaning\n",
    "    bins = [-5.5,-2,-0.2,0.2,0.75,2,5.5]\n",
    "    #train_bins = pd.cut(y_train, bins = bins, labels= bins[1:]).cat.codes\n",
    "    imp_cols = ['calculatedfinishedsquarefeet', 'latitude','longitude','lotsizesquarefeet','bathroomcnt',\n",
    "            'taxamount','structuretaxvaluedollarcnt', 'taxvaluedollarcnt','landtaxvaluedollarcnt',\n",
    "            'yearbuilt', 'bedroomcnt','buildingqualitytypeid','regionidzip','rawcensustractandblock',\n",
    "            'regionidneighborhood']\n",
    "    X_train['binned'] = pd.cut(y_train, bins = bins, labels= bins[1:]).cat.codes\n",
    "    y_df = pd.DataFrame()\n",
    "    y_df['logerror'] = y_train\n",
    "    y_df['binned'] = pd.cut(y_train, bins = bins, labels= bins[1:]).cat.codes\n",
    "    \n",
    "    X_predict = X_predict.sort_index()\n",
    "    # HERE WE WILL FILL IN NULL VALUES IF NECESSARY\n",
    "    # Additionall, we may need to prepare the data if it is to be inputted raw\n",
    "    \n",
    "    \n",
    "    #if X_predict['buildingqualitytypeid'].isnull().values.any() == True:\n",
    "        #fillna_knn(df = X_predict, base = ['latitude', 'longitude'], target = 'buildingqualitytypeid')\n",
    "    #if X_predict['regionidneighborhood'].isnull().values.any() == True:\n",
    "        #fillna_knn(df = X_predict, base = ['latitude', 'longitude'], target = 'regionidneighborhood')\n",
    "    #if X_predict['regionidzip'].isnull().values.any() == True:\n",
    "        #fillna_knn(df = X_predict, base = ['latitude', 'longitude'], target = 'regionidzip')\n",
    "    #if X_predict['lotsizesquarefeet'].isnull().values.any() == True:\n",
    "        #fillna_knn(df = X_predict, base = ['latitude', 'longitude'], target = 'lotsizesquarefeet')\n",
    "    #if X_predict['structuretaxvaluedollarcnt'].isnull().values.any() == True:\n",
    "        #fillna_knn_reg(df = X_predict, base = ['taxvaluedollarcnt'], target = 'structuretaxvaluedollarcnt')\n",
    "    #if X_predict['taxamount'].isnull().values.any() == True:\n",
    "        #fillna_knn_reg(df = X_predict, base = ['taxvaluedollarcnt'], target = 'taxamount')\n",
    "    \n",
    "    \n",
    "    # Here we adjust taxamount IF NEEDED IN MODEL\n",
    "    \n",
    "    \n",
    "    \n",
    "    \n",
    "    \n",
    "    smt = SMOTETomek(ratio='auto', n_jobs = 4)\n",
    "    X_smt, y_smt = smt.fit_sample(X_train[imp_cols], X_train['binned'])\n",
    "    \n",
    "    clf_boost = GradientBoostingClassifier(learning_rate = 0.1, max_depth = 5)\n",
    "    clf_boost.fit(X_smt, y_smt)\n",
    "    \n",
    "    #clf = RandomForestClassifier(n_estimators = 10, max_features = 3, bootstrap = True, random_state = 5)\n",
    "    #clf.fit(X_train[imp_cols], X_train['binned'])\n",
    "    \n",
    "    predicted_bins = clf_boost.predict(X_predict[imp_cols])\n",
    "    X_predict['binned'] = predicted_bins\n",
    "    \n",
    "    predicted_dfs = []\n",
    "    for i in X_train['binned'].unique():\n",
    "        #X_train['tax_deviation'] = abs((X_train['structuretaxvaluedollarcnt'] \n",
    "                                        # - X_train['regionidcity'].map(group)))/X_train['regionidcity'].map(group)\n",
    "        #X_predict['tax_deviation'] = abs((X_predict['structuretaxvaluedollarcnt'] \n",
    "                                        # - X_predict['regionidcity'].map(group)))/X_predict['regionidcity'].map(group)\n",
    "        df_train = X_train[X_train['binned'] == i]\n",
    "        df_y_train = y_df[y_df['binned'] == i]\n",
    "        df_pred = X_predict[X_predict['binned'] == i]\n",
    "        #df_predict = df_pred[imp_cols]\n",
    "        \n",
    "        df_train = df_train.astype(float)\n",
    "        df_pred = df_pred.astype(float)\n",
    "        df_train['taxamount'] = df_train['taxamount'] / 100\n",
    "        df_pred['taxamount'] = df_pred['taxamount'] / 100\n",
    "        \n",
    "        #poly = PolynomialFeatures(degree=2)\n",
    "        #X_train_poly = poly.fit_transform(df_train[imp_cols])\n",
    "        #X_test_poly = poly.fit_transform(df_pred[imp_cols])\n",
    "        #lr = LinearRegression().fit(X_train_poly, df_y_train['logerror'])\n",
    "        \n",
    "        scaler = MinMaxScaler()\n",
    "        X_train_scaled = scaler.fit_transform(df_train[imp_cols])\n",
    "        X_test_scaled = scaler.transform(df_pred[imp_cols])\n",
    "        linridge = Ridge(alpha=0.1).fit(X_train_scaled, df_y_train['logerror'])\n",
    "        \n",
    "        #mlp = MLPRegressor(hidden_layer_sizes = [100,100], alpha = 1, solver = 'lbfgs').fit(df_train[imp_cols],\n",
    "                                                                                            #df_y_train['logerror'])\n",
    "        \n",
    "        #df_pred['predicted'] = lr.predict(X_test_poly)\n",
    "        df_pred['predicted'] = linridge.predict(X_test_scaled)\n",
    "        #df_pred['predicted'] = mlp.predict(df_pred[imp_cols])\n",
    "        predicted_dfs.append(df_pred['predicted'])\n",
    "        \n",
    "        if evalu == True:\n",
    "            score_ridge = linridge.score(X_train_scaled, df_y_train['logerror'])\n",
    "            #score_poly = lr.score(X_train_scaled, df_y_train['logerror'])\n",
    "            print('The ridge score for cat: ', i, ' is ',  score_ridge)\n",
    "            #print('The poly score for cat: ', i, ' is ',  score_poly)\n",
    "    \n",
    "    S = predicted_dfs[0].append(predicted_dfs[1:])\n",
    "    \n",
    "    S = S.sort_index()\n",
    "    return S\n",
    "\n",
    "#Double_Model(X_test, X_train, y_train)"
   ]
  },
  {
   "cell_type": "code",
   "execution_count": 28,
   "metadata": {},
   "outputs": [
    {
     "name": "stderr",
     "output_type": "stream",
     "text": [
      "/anaconda3/lib/python3.6/site-packages/ipykernel_launcher.py:9: SettingWithCopyWarning: \n",
      "A value is trying to be set on a copy of a slice from a DataFrame.\n",
      "Try using .loc[row_indexer,col_indexer] = value instead\n",
      "\n",
      "See the caveats in the documentation: http://pandas.pydata.org/pandas-docs/stable/indexing.html#indexing-view-versus-copy\n",
      "  if __name__ == '__main__':\n",
      "/anaconda3/lib/python3.6/site-packages/imblearn/utils/deprecation.py:50: DeprecationWarning: 'k' is deprecated from 0.2 and will be removed in 0.4. Use 'k_neighbors' instead.\n",
      "  category=DeprecationWarning)\n",
      "/anaconda3/lib/python3.6/site-packages/imblearn/utils/deprecation.py:50: DeprecationWarning: 'm' is deprecated from 0.2 and will be removed in 0.4. Use 'm_neighbors' instead.\n",
      "  category=DeprecationWarning)\n"
     ]
    },
    {
     "name": "stdout",
     "output_type": "stream",
     "text": [
      "The ridge score for cat:  2  is  0.010635898886060091\n",
      "The ridge score for cat:  3  is  0.0086804993087084\n",
      "The ridge score for cat:  1  is  0.03400228123491689\n",
      "The ridge score for cat:  4  is  0.05473911995455583\n",
      "The ridge score for cat:  5  is  0.32035195702732056\n",
      "The ridge score for cat:  0  is  0.23368831025481385\n",
      "Mean squared error: 0.05\n",
      "r2_score: -0.75\n"
     ]
    }
   ],
   "source": [
    "y_test\n",
    "\n",
    "Results = pd.DataFrame()\n",
    "Results['predicted'] = Double_Model(X_test, X_train, y_train, evalu = True)\n",
    "Results['real'] = y_test\n",
    "\n",
    "print(\"Mean squared error: {:.2f}\".format(mean_squared_error(Results['real'], Results['predicted'])))\n",
    "print(\"r2_score: {:.2f}\".format(r2_score(Results['real'], Results['predicted'])))"
   ]
  },
  {
   "cell_type": "markdown",
   "metadata": {},
   "source": [
    "mean squared error 0.07 for $(-0.1,0.1)$"
   ]
  },
  {
   "cell_type": "code",
   "execution_count": 8,
   "metadata": {},
   "outputs": [
    {
     "data": {
      "text/plain": [
       "5.995496976843874"
      ]
     },
     "execution_count": 8,
     "metadata": {},
     "output_type": "execute_result"
    }
   ],
   "source": [
    "Results['predicted'].max()"
   ]
  },
  {
   "cell_type": "code",
   "execution_count": 9,
   "metadata": {},
   "outputs": [
    {
     "data": {
      "image/png": "[encoded data removed]",
      "text/plain": [
       "<Figure size 720x360 with 1 Axes>"
      ]
     },
     "metadata": {},
     "output_type": "display_data"
    }
   ],
   "source": [
    "x=[-5.5,-5,-4.5,-4,-3.5,-3,-2.5,-2,-1.5,-1,-0.5,0,0.5,1,1.5,2,2.5,3,3.5,4,4.5,5,5.5]\n",
    "\n",
    "plt.figure(figsize = (10,5))\n",
    "plt.hist(Results['predicted'], bins=100, density=True, histtype='step')\n",
    "#plt.hist(Results['real'], bins=100, density=True, histtype='step')\n",
    "plt.yscale('log')\n",
    "plt.xlabel('logerror')\n",
    "plt.xticks(x)\n",
    "#plt.xlim([-6,6])\n",
    "plt.ylabel('PDF')\n",
    "plt.grid(True)"
   ]
  },
  {
   "cell_type": "code",
   "execution_count": 20,
   "metadata": {},
   "outputs": [
    {
     "data": {
      "text/html": [
       "<div>\n",
       "<style scoped>\n",
       "    .dataframe tbody tr th:only-of-type {\n",
       "        vertical-align: middle;\n",
       "    }\n",
       "\n",
       "    .dataframe tbody tr th {\n",
       "        vertical-align: top;\n",
       "    }\n",
       "\n",
       "    .dataframe thead th {\n",
       "        text-align: right;\n",
       "    }\n",
       "</style>\n",
       "<table border=\"1\" class=\"dataframe\">\n",
       "  <thead>\n",
       "    <tr style=\"text-align: right;\">\n",
       "      <th></th>\n",
       "      <th></th>\n",
       "      <th>predicted</th>\n",
       "      <th>real</th>\n",
       "      <th>zeros</th>\n",
       "    </tr>\n",
       "    <tr>\n",
       "      <th>parcelid</th>\n",
       "      <th>Unnamed: 0</th>\n",
       "      <th></th>\n",
       "      <th></th>\n",
       "      <th></th>\n",
       "    </tr>\n",
       "  </thead>\n",
       "  <tbody>\n",
       "    <tr>\n",
       "      <th>10711755</th>\n",
       "      <th>83007</th>\n",
       "      <td>0.000790</td>\n",
       "      <td>-0.018200</td>\n",
       "      <td>0</td>\n",
       "    </tr>\n",
       "    <tr>\n",
       "      <th>10711858</th>\n",
       "      <th>84331</th>\n",
       "      <td>0.003583</td>\n",
       "      <td>-0.048100</td>\n",
       "      <td>0</td>\n",
       "    </tr>\n",
       "    <tr>\n",
       "      <th>10711995</th>\n",
       "      <th>66220</th>\n",
       "      <td>0.003228</td>\n",
       "      <td>0.041138</td>\n",
       "      <td>0</td>\n",
       "    </tr>\n",
       "    <tr>\n",
       "      <th>10712184</th>\n",
       "      <th>36189</th>\n",
       "      <td>0.003073</td>\n",
       "      <td>0.041968</td>\n",
       "      <td>0</td>\n",
       "    </tr>\n",
       "    <tr>\n",
       "      <th>10712195</th>\n",
       "      <th>50456</th>\n",
       "      <td>0.004506</td>\n",
       "      <td>-0.045000</td>\n",
       "      <td>0</td>\n",
       "    </tr>\n",
       "  </tbody>\n",
       "</table>\n",
       "</div>"
      ],
      "text/plain": [
       "                     predicted      real  zeros\n",
       "parcelid Unnamed: 0                            \n",
       "10711755 83007        0.000790 -0.018200      0\n",
       "10711858 84331        0.003583 -0.048100      0\n",
       "10711995 66220        0.003228  0.041138      0\n",
       "10712184 36189        0.003073  0.041968      0\n",
       "10712195 50456        0.004506 -0.045000      0"
      ]
     },
     "execution_count": 20,
     "metadata": {},
     "output_type": "execute_result"
    }
   ],
   "source": [
    "Results['zeros'] = 0#basis_model = np.full((len(Results['predicted']),1), 0)\n",
    "Results.head()"
   ]
  },
  {
   "cell_type": "code",
   "execution_count": 23,
   "metadata": {},
   "outputs": [
    {
     "name": "stdout",
     "output_type": "stream",
     "text": [
      "Mean squared error: 0.03\n",
      "r2_score: -0.01\n"
     ]
    }
   ],
   "source": [
    "print(\"Mean squared error: {:.2f}\".format(mean_squared_error(Results['real'], Results['zeros'])))\n",
    "print(\"r2_score: {:.2f}\".format(r2_score(Results['real'], Results['zeros'])))"
   ]
  },
  {
   "cell_type": "code",
   "execution_count": null,
   "metadata": {},
   "outputs": [],
   "source": []
  }
 ],
 "metadata": {
  "kernelspec": {
   "display_name": "Python 3",
   "language": "python",
   "name": "python3"
  },
  "language_info": {
   "codemirror_mode": {
    "name": "ipython",
    "version": 3
   },
   "file_extension": ".py",
   "mimetype": "text/x-python",
   "name": "python",
   "nbconvert_exporter": "python",
   "pygments_lexer": "ipython3",
   "version": "3.6.5"
  }
 },
 "nbformat": 4,
 "nbformat_minor": 2
}
