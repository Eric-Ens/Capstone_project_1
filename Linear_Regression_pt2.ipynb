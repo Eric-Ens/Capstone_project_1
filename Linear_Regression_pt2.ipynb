{
 "cells": [
  {
   "cell_type": "markdown",
   "metadata": {},
   "source": [
    "# Linear Regression pt 2\n",
    "****\n",
    "\n",
    "If we look at the visualizations in the visualizations notebook, we know that each each feature, when plotted against 'logerror,' are symmetric about the $y$-axis. This means that, individually, each line of best fit will be near to $y=0$ and so the residuals will be closely related to those of the distribution of 'logerror.'"
   ]
  },
  {
   "cell_type": "code",
   "execution_count": 2,
   "metadata": {},
   "outputs": [],
   "source": [
    "import pandas as pd\n",
    "import numpy as np\n",
    "import random as rnd\n",
    "import matplotlib.gridspec as gridspec\n",
    "import datetime\n",
    "import math\n",
    "import scipy.stats as stats\n",
    "import sklearn\n",
    "\n",
    "import statsmodels.api as sm\n",
    "from statsmodels.formula.api import ols\n",
    "from sklearn.model_selection import train_test_split\n",
    "from sklearn.neighbors import KNeighborsClassifier\n",
    "\n",
    "import seaborn as sns\n",
    "import matplotlib.pyplot as plt\n",
    "%matplotlib notebook\n",
    "from IPython.core.display import display, HTML\n",
    "#display(HTML(\"<style>.rendered_html{font-size: 18px; line-height: 1.4}</style>\"))"
   ]
  },
  {
   "cell_type": "code",
   "execution_count": 4,
   "metadata": {},
   "outputs": [],
   "source": [
    "Housing = pd.read_csv('cleaned_1.csv')\n",
    "Housing = Housing.set_index(['parcelid','Unnamed: 0'])\n",
    "Housing['transactiondate'] = pd.to_datetime(Housing['transactiondate'], format = '%Y-%m-%d', errors = 'coerce')\n",
    "imp_cols = ['calculatedfinishedsquarefeet', 'latitude','longitude','lotsizesquarefeet','bathroomcnt',\n",
    "         'taxamount','structuretaxvaluedollarcnt', 'taxvaluedollarcnt','landtaxvaluedollarcnt',\n",
    "         'yearbuilt', 'bedroomcnt','buildingqualitytypeid','regionidzip','rawcensustractandblock',\n",
    "         'regionidneighborhood']#'tax_deviation'\n",
    "# Save tax_deviation for regression\n",
    "\n",
    "X_df = Housing[imp_cols]\n",
    "Y_df = Housing['logerror']\n",
    "#Housing.info()"
   ]
  },
  {
   "cell_type": "markdown",
   "metadata": {},
   "source": [
    "We first note two distributions of 'logerror.' The standard distribution shows the vast majority of entries around 0, showing more that $y=0$ is the most likely line of best fit. The other distribution is in log scale to show two clusters we want to try to model."
   ]
  },
  {
   "cell_type": "code",
   "execution_count": 5,
   "metadata": {},
   "outputs": [
    {
     "data": {
      "image/png": "[encoded data removed]",
      "text/plain": [
       "<Figure size 720x360 with 2 Axes>"
      ]
     },
     "metadata": {},
     "output_type": "display_data"
    }
   ],
   "source": [
    "fig, (ax1,ax2) = plt.subplots(1, 2, figsize=(10,5))\n",
    "# plot the linear_data on the 5th subplot axes \n",
    "\n",
    "ax1.hist(Housing['logerror'], bins=50, density=True, histtype='step')\n",
    "#ax1 = plt.yscale('log')\n",
    "ax1 = plt.xlabel('logerror')\n",
    "ax1 = plt.ylabel('PDF')\n",
    "\n",
    "ax2.hist(Housing['logerror'], bins=50, density=True, histtype='step')\n",
    "ax2 = plt.yscale('log')\n",
    "ax2 = plt.xlabel('logerror')\n",
    "ax2 = plt.ylabel('PDF')"
   ]
  },
  {
   "cell_type": "markdown",
   "metadata": {},
   "source": [
    "We will next do a cursory fit of 'calculatedfinishedsquarefeet' only with a linear regression."
   ]
  },
  {
   "cell_type": "code",
   "execution_count": 6,
   "metadata": {},
   "outputs": [],
   "source": [
    "linstr = ('logerror ~ calculatedfinishedsquarefeet + latitude + longitude + lotsizesquarefeet + bathroomcnt + '\n",
    "          'taxamount + structuretaxvaluedollarcnt + tax_deviation + taxvaluedollarcnt + landtaxvaluedollarcnt + '\n",
    "          'yearbuilt + bedroomcnt + buildingqualitytypeid + regionidzip + rawcensustractandblock + '\n",
    "          'regionidneighborhood'\n",
    "         )"
   ]
  },
  {
   "cell_type": "code",
   "execution_count": 7,
   "metadata": {},
   "outputs": [
    {
     "name": "stdout",
     "output_type": "stream",
     "text": [
      "                            OLS Regression Results                            \n",
      "==============================================================================\n",
      "Dep. Variable:               logerror   R-squared:                       0.001\n",
      "Model:                            OLS   Adj. R-squared:                  0.001\n",
      "Method:                 Least Squares   F-statistic:                     233.8\n",
      "Date:                Mon, 17 Sep 2018   Prob (F-statistic):           9.84e-53\n",
      "Time:                        21:20:52   Log-Likelihood:                 65189.\n",
      "No. Observations:              166532   AIC:                        -1.304e+05\n",
      "Df Residuals:                  166530   BIC:                        -1.304e+05\n",
      "Df Model:                           1                                         \n",
      "Covariance Type:            nonrobust                                         \n",
      "================================================================================================\n",
      "                                   coef    std err          t      P>|t|      [0.025      0.975]\n",
      "------------------------------------------------------------------------------------------------\n",
      "Intercept                        0.0023      0.001      2.638      0.008       0.001       0.004\n",
      "calculatedfinishedsquarefeet  6.527e-06   4.27e-07     15.289      0.000    5.69e-06    7.36e-06\n",
      "==============================================================================\n",
      "Omnibus:                   138775.365   Durbin-Watson:                   1.993\n",
      "Prob(Omnibus):                  0.000   Jarque-Bera (JB):        107959747.586\n",
      "Skew:                           2.842   Prob(JB):                         0.00\n",
      "Kurtosis:                     127.605   Cond. No.                     4.30e+03\n",
      "==============================================================================\n",
      "\n",
      "Warnings:\n",
      "[1] Standard Errors assume that the covariance matrix of the errors is correctly specified.\n",
      "[2] The condition number is large, 4.3e+03. This might indicate that there are\n",
      "strong multicollinearity or other numerical problems.\n"
     ]
    }
   ],
   "source": [
    "sqft_reg = ols('logerror ~ calculatedfinishedsquarefeet',Housing).fit()\n",
    "print(sqft_reg.summary())"
   ]
  },
  {
   "cell_type": "code",
   "execution_count": 8,
   "metadata": {},
   "outputs": [
    {
     "data": {
      "text/plain": [
       "<matplotlib.collections.PathCollection at 0x1157129b0>"
      ]
     },
     "execution_count": 8,
     "metadata": {},
     "output_type": "execute_result"
    },
    {
     "data": {
      "image/png": "[encoded data removed]",
      "text/plain": [
       "<Figure size 432x288 with 1 Axes>"
      ]
     },
     "metadata": {},
     "output_type": "display_data"
    }
   ],
   "source": [
    "plt.figure()\n",
    "plt.xlabel(\"fitted values\")\n",
    "plt.ylabel(\"residuals\")\n",
    "plt.scatter(sqft_reg.fittedvalues,sqft_reg.resid)"
   ]
  },
  {
   "cell_type": "code",
   "execution_count": 9,
   "metadata": {},
   "outputs": [
    {
     "data": {
      "image/png": "[encoded data removed]",
      "text/plain": [
       "<Figure size 432x288 with 1 Axes>"
      ]
     },
     "metadata": {},
     "output_type": "display_data"
    }
   ],
   "source": [
    "import pylab\n",
    "plt.figure()\n",
    "stats.probplot(sqft_reg.resid, dist=\"norm\", plot=pylab)\n",
    "pylab.title(\"Quantile plot of residuals\")\n",
    "pylab.show()"
   ]
  },
  {
   "cell_type": "code",
   "execution_count": 10,
   "metadata": {},
   "outputs": [
    {
     "name": "stdout",
     "output_type": "stream",
     "text": [
      "linear model coeff (w): [ 1.12801132e-05  4.34816753e-10  1.73983981e-09  1.81837828e-08\n",
      " -9.52844045e-04 -3.12520468e-06 -1.06689410e-07  1.25755778e-07\n",
      " -9.58254113e-08  1.99343394e-05  6.54002331e-04 -2.49151965e-04\n",
      "  7.19372767e-08  3.83679019e-10  3.06752311e-09]\n",
      "linear model intercept (b): 0.123\n",
      "R-squared score (training): 0.004\n",
      "R-squared score (test): 0.003\n"
     ]
    }
   ],
   "source": [
    "from sklearn.linear_model import LinearRegression\n",
    "\n",
    "X_train, X_test, y_train, y_test = train_test_split(X_df, Y_df, random_state = 0)\n",
    "linreg = LinearRegression().fit(X_train, y_train)\n",
    "\n",
    "print('linear model coeff (w): {}'\n",
    "     .format(linreg.coef_))\n",
    "print('linear model intercept (b): {:.3f}'\n",
    "     .format(linreg.intercept_))\n",
    "print('R-squared score (training): {:.3f}'\n",
    "     .format(linreg.score(X_train, y_train)))\n",
    "print('R-squared score (test): {:.3f}'\n",
    "     .format(linreg.score(X_test, y_test)))"
   ]
  },
  {
   "cell_type": "markdown",
   "metadata": {},
   "source": [
    "As we guessed, there is a poor linear regression for this one variable. So we will try a polynomial regression."
   ]
  },
  {
   "cell_type": "code",
   "execution_count": 11,
   "metadata": {},
   "outputs": [],
   "source": [
    "from sklearn.preprocessing import PolynomialFeatures\n",
    "degree_range = [1,3,6,9]\n",
    "range_under_6 = range(0,5)\n",
    "\n",
    "# This fucntion does the polynomial transformation alone and spits out an array of transformed\n",
    "# data for each degree. It is kept seperate in case I dont want to transform every time I fit.\n",
    "# For now, it is not being used.\n",
    "\n",
    "def build_transforms(degrees, train, test):\n",
    "    #X_train, X_test, y_train, y_test = train_test_split(features, target, random_state = 0)\n",
    "    transformed_train = []\n",
    "    for i in degrees:\n",
    "        X_train_poly = PolynomialFeatures(degree=i).fit_transform(train)\n",
    "        transformed_train.append(X_train_poly)\n",
    "\n",
    "    transformed_test = []\n",
    "    for i in degrees:\n",
    "        X_test_poly = PolynomialFeatures(degree=i).fit_transform(test)\n",
    "        transformed_test.append(X_test_poly)\n",
    "        \n",
    "    return transformed_train, transformed_test\n",
    "\n",
    "#transformed_train, transformed_test = build_transforms(degree_range)"
   ]
  },
  {
   "cell_type": "code",
   "execution_count": 12,
   "metadata": {},
   "outputs": [
    {
     "name": "stdout",
     "output_type": "stream",
     "text": [
      "the r2 scores for degrees  range(0, 5)  on the training set are  [0.         0.0037029  0.00992103 0.02661988 0.04396717]\n"
     ]
    }
   ],
   "source": [
    "from sklearn.metrics.regression import r2_score\n",
    "\n",
    "def r2train_full(i, X_train, y_train): # this function transforms and fits\n",
    "    poly = PolynomialFeatures(degree=i)\n",
    "    X_train_poly = poly.fit_transform(X_train)\n",
    "    linreg = LinearRegression().fit(X_train_poly, y_train)\n",
    "        \n",
    "    r2_train = linreg.score(X_train_poly, y_train)\n",
    "    return r2_train\n",
    "\n",
    "def r2train(i, tf_X, y_train): \n",
    "    # in case the transforming func is used, apply this func (not currently being used.)\n",
    "    linreg = LinearRegression().fit(tf_X[i], y_train)\n",
    "        \n",
    "    r2_train = linreg.score(tf_X[i], y_train)\n",
    "    return r2_train\n",
    "\n",
    "r2_train_list = []\n",
    "for i in range_under_6:\n",
    "    r2_train_list.append(r2train_full(i, X_train, y_train))\n",
    "    #r2_train_list.append(r2train(i))\n",
    "    \n",
    "r2_train = np.array(r2_train_list)\n",
    "\n",
    "print('the r2 scores for degrees ', range_under_6, ' on the training set are ', r2_train)"
   ]
  },
  {
   "cell_type": "code",
   "execution_count": 13,
   "metadata": {},
   "outputs": [
    {
     "name": "stdout",
     "output_type": "stream",
     "text": [
      "the r2 scores for degrees  range(0, 5)  on the test set are  [-1.48751561e-04  2.82714028e-03 -4.95072123e-03 -2.07389283e+02\n",
      " -9.19806616e+04]\n"
     ]
    }
   ],
   "source": [
    "def r2test_full(i, X_train, X_test, y_train, y_test):  # this function transforms and fits\n",
    "    poly = PolynomialFeatures(degree=i)\n",
    "    X_train_poly = poly.fit_transform(X_train)\n",
    "    X_test_poly = poly.fit_transform(X_test)\n",
    "    linreg = LinearRegression().fit(X_train_poly, y_train)\n",
    "        \n",
    "    r2_test = linreg.score(X_test_poly, y_test)\n",
    "    return r2_test\n",
    "\n",
    "def r2test(i, tf_tr, tf_ts, y_train, y_test): \n",
    "    # in case the transforming func is used, apply this func (not currently being used.)\n",
    "    linreg = LinearRegression().fit(tf_tr[i], y_train)\n",
    "        \n",
    "    r2_test = linreg.score(tf_ts[i], y_test)\n",
    "    return r2_test\n",
    "\n",
    "r2_test_list = []\n",
    "for i in range_under_6:\n",
    "    #r2_test_list.append(r2test(i))\n",
    "    r2_test_list.append(r2test_full(i, X_train, X_test, y_train, y_test))\n",
    "    \n",
    "r2_test = np.array(r2_test_list)\n",
    "print('the r2 scores for degrees ', range_under_6, ' on the test set are ', r2_test)   "
   ]
  },
  {
   "cell_type": "markdown",
   "metadata": {},
   "source": [
    "We note that degree 4 is the best fit, though it is still not very good, in fact are quite similar to the linear regression. We will try to use the other features, beginning with the smaller dataset.\n",
    "****\n",
    "## Polynomial regressions on Housing\n",
    "****\n",
    "begin with a ridge regression"
   ]
  },
  {
   "cell_type": "code",
   "execution_count": 15,
   "metadata": {},
   "outputs": [
    {
     "name": "stdout",
     "output_type": "stream",
     "text": [
      "Housing dataset\n",
      "ridge regression linear model intercept: -0.0064217107744063175\n",
      "ridge regression linear model coeff:\n",
      "[ 0.19709832  0.0003175   0.00666755  0.08072398  0.01553163 -0.13257087\n",
      " -0.05213669 -0.04492169 -0.03999844  0.00241937  0.0263384  -0.00277979\n",
      "  0.00885391  0.00422714  0.00213767]\n",
      "R-squared score (training): 0.002\n",
      "R-squared score (test): 0.001\n",
      "Number of non-zero features: 15\n"
     ]
    }
   ],
   "source": [
    "from sklearn.linear_model import Ridge\n",
    "from sklearn.preprocessing import MinMaxScaler\n",
    "scaler = MinMaxScaler()\n",
    "\n",
    "X_train_scaled = scaler.fit_transform(X_train)\n",
    "X_test_scaled = scaler.transform(X_test)\n",
    "\n",
    "linridge = Ridge(alpha=20.0).fit(X_train_scaled, y_train)\n",
    "\n",
    "print('Housing dataset')\n",
    "print('ridge regression linear model intercept: {}'\n",
    "     .format(linridge.intercept_))\n",
    "print('ridge regression linear model coeff:\\n{}'\n",
    "     .format(linridge.coef_))\n",
    "print('R-squared score (training): {:.3f}'\n",
    "     .format(linridge.score(X_train_scaled, y_train)))\n",
    "print('R-squared score (test): {:.3f}'\n",
    "     .format(linridge.score(X_test_scaled, y_test)))\n",
    "print('Number of non-zero features: {}'\n",
    "     .format(np.sum(linridge.coef_ != 0)))"
   ]
  },
  {
   "cell_type": "markdown",
   "metadata": {},
   "source": [
    "We perform a Lasso regression using a chosen degree"
   ]
  },
  {
   "cell_type": "code",
   "execution_count": null,
   "metadata": {},
   "outputs": [],
   "source": [
    "from sklearn.linear_model import Lasso\n",
    "best_degree = 4\n",
    "\n",
    "def LinLasso(i):\n",
    "    poly = PolynomialFeatures(degree=i)\n",
    "    X_train_poly = poly.fit_transform(X_train)\n",
    "    X_test_poly = poly.fit_transform(X_test)\n",
    "        \n",
    "    linlasso = Lasso(alpha=0.1, max_iter = 10000).fit(X_train_poly, y_train)\n",
    "        \n",
    "    r2_test = linlasso.score(X_test_poly, y_test)\n",
    "    return r2_test\n",
    "\n",
    "#print('For degree 12, lassos score is ', LinLasso(12))\n",
    "print('For degree ',best_degree,' lassos score is ', LinLasso(best_degree))"
   ]
  },
  {
   "cell_type": "markdown",
   "metadata": {},
   "source": [
    "Now, we do a neural network regressor."
   ]
  },
  {
   "cell_type": "code",
   "execution_count": null,
   "metadata": {},
   "outputs": [],
   "source": [
    "from sklearn.neural_network import MLPRegressor\n",
    "\n",
    "mlpreg = MLPRegressor(hidden_layer_sizes = [100,100],\n",
    "                      activation = thisactivation,\n",
    "                      alpha = thisalpha,\n",
    "                      solver = 'lbfgs').fit(X_train, y_train)\n",
    "print('Housing dataset')\n",
    "print('ridge regression linear model intercept: {}'\n",
    "     .format(mlpreg.intercept_))\n",
    "print('ridge regression linear model coeff:\\n{}'\n",
    "     .format(mlpreg.coef_))\n",
    "print('R-squared score (training): {:.3f}'\n",
    "     .format(mlpreg.score(X_train_scaled, y_train)))\n",
    "print('R-squared score (test): {:.3f}'\n",
    "     .format(mlpreg.score(X_test_scaled, y_test)))\n",
    "print('Number of non-zero features: {}'\n",
    "     .format(np.sum(mlpreg.coef_ != 0)))"
   ]
  },
  {
   "cell_type": "code",
   "execution_count": null,
   "metadata": {},
   "outputs": [],
   "source": []
  }
 ],
 "metadata": {
  "kernelspec": {
   "display_name": "Python 3",
   "language": "python",
   "name": "python3"
  },
  "language_info": {
   "codemirror_mode": {
    "name": "ipython",
    "version": 3
   },
   "file_extension": ".py",
   "mimetype": "text/x-python",
   "name": "python",
   "nbconvert_exporter": "python",
   "pygments_lexer": "ipython3",
   "version": "3.6.5"
  }
 },
 "nbformat": 4,
 "nbformat_minor": 2
}
