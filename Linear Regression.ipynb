{
 "cells": [
  {
   "cell_type": "markdown",
   "metadata": {},
   "source": [
    "# Linear Regression\n",
    "****\n",
    "\n",
    "We already know that a linear regression will not be a suitable model since our primary goal is to find a way to accurately identify the logerror clusters at $\\pm 2$. However, we will still use a linear regression model to gain some insights into the data."
   ]
  },
  {
   "cell_type": "code",
   "execution_count": 1,
   "metadata": {},
   "outputs": [],
   "source": [
    "# data analysis and wrangling\n",
    "import pandas as pd\n",
    "import numpy as np\n",
    "import random as rnd\n",
    "import matplotlib.gridspec as gridspec\n",
    "import datetime\n",
    "import math\n",
    "import scipy.stats as stats\n",
    "import sklearn\n",
    "\n",
    "# Import regression modules\n",
    "import statsmodels.api as sm\n",
    "from statsmodels.formula.api import ols\n",
    "from sklearn.model_selection import train_test_split\n",
    "from sklearn.neighbors import KNeighborsClassifier\n",
    "\n",
    "# visualization\n",
    "import seaborn as sns\n",
    "import matplotlib.pyplot as plt\n",
    "%matplotlib notebook\n",
    "from IPython.core.display import display, HTML\n",
    "#display(HTML(\"<style>.rendered_html{font-size: 18px; line-height: 1.4}</style>\"))\n",
    "\n",
    "# special IPython command to prepare the notebook for matplotlib and other libraries\n",
    "%matplotlib inline "
   ]
  },
  {
   "cell_type": "code",
   "execution_count": 2,
   "metadata": {},
   "outputs": [
    {
     "name": "stdout",
     "output_type": "stream",
     "text": [
      "<class 'pandas.core.frame.DataFrame'>\n",
      "RangeIndex: 167854 entries, 0 to 167853\n",
      "Data columns (total 45 columns):\n",
      "Unnamed: 0                      167854 non-null int64\n",
      "parcelid                        167854 non-null int64\n",
      "airconditioningtypeid           167854 non-null float64\n",
      "bathroomcnt                     167854 non-null float64\n",
      "bedroomcnt                      167854 non-null float64\n",
      "buildingqualitytypeid           167854 non-null float64\n",
      "calculatedfinishedsquarefeet    166992 non-null float64\n",
      "fips                            167854 non-null float64\n",
      "fireplacecnt                    167854 non-null float64\n",
      "garagecarcnt                    167854 non-null float64\n",
      "garagetotalsqft                 167854 non-null float64\n",
      "hashottuborspa                  167854 non-null float64\n",
      "heatingorsystemtypeid           167854 non-null float64\n",
      "latitude                        167854 non-null float64\n",
      "longitude                       167854 non-null float64\n",
      "lotsizesquarefeet               167854 non-null float64\n",
      "poolcnt                         167854 non-null float64\n",
      "poolsizesum                     167854 non-null float64\n",
      "pooltypeid2                     167854 non-null float64\n",
      "pooltypeid7                     167854 non-null float64\n",
      "propertycountylandusecode       167854 non-null float64\n",
      "propertylandusetypeid           167854 non-null float64\n",
      "propertyzoningdesc              167854 non-null float64\n",
      "rawcensustractandblock          167854 non-null float64\n",
      "regionidcity                    167854 non-null float64\n",
      "regionidcounty                  167854 non-null float64\n",
      "regionidneighborhood            167854 non-null float64\n",
      "regionidzip                     167854 non-null float64\n",
      "roomcnt                         167854 non-null float64\n",
      "threequarterbathnbr             167854 non-null float64\n",
      "unitcnt                         167854 non-null float64\n",
      "yearbuilt                       166828 non-null float64\n",
      "structuretaxvaluedollarcnt      167854 non-null float64\n",
      "taxvaluedollarcnt               167854 non-null float64\n",
      "assessmentyear                  167854 non-null float64\n",
      "landtaxvaluedollarcnt           167854 non-null float64\n",
      "taxamount                       167854 non-null float64\n",
      "censustractandblock             167002 non-null float64\n",
      "logerror                        167854 non-null float64\n",
      "transactiondate                 167854 non-null object\n",
      "LivingAreaProp                  166992 non-null float64\n",
      "ExtraSpace                      166992 non-null float64\n",
      "PropUseType                     167854 non-null float64\n",
      "tax_avg                         167854 non-null float64\n",
      "tax_deviation                   167854 non-null float64\n",
      "dtypes: float64(42), int64(2), object(1)\n",
      "memory usage: 57.6+ MB\n",
      "None\n"
     ]
    },
    {
     "data": {
      "text/html": [
       "<div>\n",
       "<style scoped>\n",
       "    .dataframe tbody tr th:only-of-type {\n",
       "        vertical-align: middle;\n",
       "    }\n",
       "\n",
       "    .dataframe tbody tr th {\n",
       "        vertical-align: top;\n",
       "    }\n",
       "\n",
       "    .dataframe thead th {\n",
       "        text-align: right;\n",
       "    }\n",
       "</style>\n",
       "<table border=\"1\" class=\"dataframe\">\n",
       "  <thead>\n",
       "    <tr style=\"text-align: right;\">\n",
       "      <th></th>\n",
       "      <th>Unnamed: 0</th>\n",
       "      <th>parcelid</th>\n",
       "      <th>airconditioningtypeid</th>\n",
       "      <th>bathroomcnt</th>\n",
       "      <th>bedroomcnt</th>\n",
       "      <th>buildingqualitytypeid</th>\n",
       "      <th>calculatedfinishedsquarefeet</th>\n",
       "      <th>fips</th>\n",
       "      <th>fireplacecnt</th>\n",
       "      <th>garagecarcnt</th>\n",
       "      <th>...</th>\n",
       "      <th>landtaxvaluedollarcnt</th>\n",
       "      <th>taxamount</th>\n",
       "      <th>censustractandblock</th>\n",
       "      <th>logerror</th>\n",
       "      <th>transactiondate</th>\n",
       "      <th>LivingAreaProp</th>\n",
       "      <th>ExtraSpace</th>\n",
       "      <th>PropUseType</th>\n",
       "      <th>tax_avg</th>\n",
       "      <th>tax_deviation</th>\n",
       "    </tr>\n",
       "  </thead>\n",
       "  <tbody>\n",
       "    <tr>\n",
       "      <th>0</th>\n",
       "      <td>0</td>\n",
       "      <td>17073783</td>\n",
       "      <td>1.0</td>\n",
       "      <td>2.5</td>\n",
       "      <td>3.0</td>\n",
       "      <td>0.0</td>\n",
       "      <td>1264.0</td>\n",
       "      <td>6111.0</td>\n",
       "      <td>0.0</td>\n",
       "      <td>2.0</td>\n",
       "      <td>...</td>\n",
       "      <td>76724.0</td>\n",
       "      <td>2015.06</td>\n",
       "      <td>6.111002e+13</td>\n",
       "      <td>0.0953</td>\n",
       "      <td>2016-01-27</td>\n",
       "      <td>0.728530</td>\n",
       "      <td>471.0</td>\n",
       "      <td>3.0</td>\n",
       "      <td>158582.578125</td>\n",
       "      <td>0.274277</td>\n",
       "    </tr>\n",
       "    <tr>\n",
       "      <th>1</th>\n",
       "      <td>1</td>\n",
       "      <td>17088994</td>\n",
       "      <td>1.0</td>\n",
       "      <td>1.0</td>\n",
       "      <td>2.0</td>\n",
       "      <td>0.0</td>\n",
       "      <td>777.0</td>\n",
       "      <td>6111.0</td>\n",
       "      <td>0.0</td>\n",
       "      <td>1.0</td>\n",
       "      <td>...</td>\n",
       "      <td>95870.0</td>\n",
       "      <td>2581.30</td>\n",
       "      <td>6.111002e+13</td>\n",
       "      <td>0.0198</td>\n",
       "      <td>2016-03-30</td>\n",
       "      <td>0.205556</td>\n",
       "      <td>3003.0</td>\n",
       "      <td>3.0</td>\n",
       "      <td>158582.578125</td>\n",
       "      <td>0.093160</td>\n",
       "    </tr>\n",
       "    <tr>\n",
       "      <th>2</th>\n",
       "      <td>2</td>\n",
       "      <td>17100444</td>\n",
       "      <td>1.0</td>\n",
       "      <td>2.0</td>\n",
       "      <td>3.0</td>\n",
       "      <td>0.0</td>\n",
       "      <td>1101.0</td>\n",
       "      <td>6111.0</td>\n",
       "      <td>0.0</td>\n",
       "      <td>2.0</td>\n",
       "      <td>...</td>\n",
       "      <td>14234.0</td>\n",
       "      <td>591.64</td>\n",
       "      <td>6.111001e+13</td>\n",
       "      <td>0.0060</td>\n",
       "      <td>2016-05-27</td>\n",
       "      <td>0.167605</td>\n",
       "      <td>5468.0</td>\n",
       "      <td>3.0</td>\n",
       "      <td>130160.945312</td>\n",
       "      <td>0.741712</td>\n",
       "    </tr>\n",
       "    <tr>\n",
       "      <th>3</th>\n",
       "      <td>3</td>\n",
       "      <td>17102429</td>\n",
       "      <td>1.0</td>\n",
       "      <td>1.5</td>\n",
       "      <td>2.0</td>\n",
       "      <td>0.0</td>\n",
       "      <td>1554.0</td>\n",
       "      <td>6111.0</td>\n",
       "      <td>1.0</td>\n",
       "      <td>2.0</td>\n",
       "      <td>...</td>\n",
       "      <td>17305.0</td>\n",
       "      <td>682.78</td>\n",
       "      <td>6.111001e+13</td>\n",
       "      <td>-0.0566</td>\n",
       "      <td>2016-06-07</td>\n",
       "      <td>0.210000</td>\n",
       "      <td>5846.0</td>\n",
       "      <td>3.0</td>\n",
       "      <td>130160.945312</td>\n",
       "      <td>0.649595</td>\n",
       "    </tr>\n",
       "    <tr>\n",
       "      <th>4</th>\n",
       "      <td>4</td>\n",
       "      <td>17109604</td>\n",
       "      <td>1.0</td>\n",
       "      <td>2.5</td>\n",
       "      <td>4.0</td>\n",
       "      <td>0.0</td>\n",
       "      <td>2415.0</td>\n",
       "      <td>6111.0</td>\n",
       "      <td>1.0</td>\n",
       "      <td>2.0</td>\n",
       "      <td>...</td>\n",
       "      <td>277000.0</td>\n",
       "      <td>5886.92</td>\n",
       "      <td>6.111002e+13</td>\n",
       "      <td>0.0573</td>\n",
       "      <td>2016-08-08</td>\n",
       "      <td>0.381758</td>\n",
       "      <td>3911.0</td>\n",
       "      <td>3.0</td>\n",
       "      <td>158582.578125</td>\n",
       "      <td>0.746724</td>\n",
       "    </tr>\n",
       "  </tbody>\n",
       "</table>\n",
       "<p>5 rows × 45 columns</p>\n",
       "</div>"
      ],
      "text/plain": [
       "   Unnamed: 0  parcelid  airconditioningtypeid  bathroomcnt  bedroomcnt  \\\n",
       "0           0  17073783                    1.0          2.5         3.0   \n",
       "1           1  17088994                    1.0          1.0         2.0   \n",
       "2           2  17100444                    1.0          2.0         3.0   \n",
       "3           3  17102429                    1.0          1.5         2.0   \n",
       "4           4  17109604                    1.0          2.5         4.0   \n",
       "\n",
       "   buildingqualitytypeid  calculatedfinishedsquarefeet    fips  fireplacecnt  \\\n",
       "0                    0.0                        1264.0  6111.0           0.0   \n",
       "1                    0.0                         777.0  6111.0           0.0   \n",
       "2                    0.0                        1101.0  6111.0           0.0   \n",
       "3                    0.0                        1554.0  6111.0           1.0   \n",
       "4                    0.0                        2415.0  6111.0           1.0   \n",
       "\n",
       "   garagecarcnt      ...        landtaxvaluedollarcnt  taxamount  \\\n",
       "0           2.0      ...                      76724.0    2015.06   \n",
       "1           1.0      ...                      95870.0    2581.30   \n",
       "2           2.0      ...                      14234.0     591.64   \n",
       "3           2.0      ...                      17305.0     682.78   \n",
       "4           2.0      ...                     277000.0    5886.92   \n",
       "\n",
       "   censustractandblock  logerror  transactiondate  LivingAreaProp  ExtraSpace  \\\n",
       "0         6.111002e+13    0.0953       2016-01-27        0.728530       471.0   \n",
       "1         6.111002e+13    0.0198       2016-03-30        0.205556      3003.0   \n",
       "2         6.111001e+13    0.0060       2016-05-27        0.167605      5468.0   \n",
       "3         6.111001e+13   -0.0566       2016-06-07        0.210000      5846.0   \n",
       "4         6.111002e+13    0.0573       2016-08-08        0.381758      3911.0   \n",
       "\n",
       "   PropUseType        tax_avg  tax_deviation  \n",
       "0          3.0  158582.578125       0.274277  \n",
       "1          3.0  158582.578125       0.093160  \n",
       "2          3.0  130160.945312       0.741712  \n",
       "3          3.0  130160.945312       0.649595  \n",
       "4          3.0  158582.578125       0.746724  \n",
       "\n",
       "[5 rows x 45 columns]"
      ]
     },
     "execution_count": 2,
     "metadata": {},
     "output_type": "execute_result"
    }
   ],
   "source": [
    "Housing_data = pd.read_csv('cleaned_1.csv')\n",
    "print(Housing_data.info())\n",
    "Housing_data.head()"
   ]
  },
  {
   "cell_type": "code",
   "execution_count": 3,
   "metadata": {},
   "outputs": [
    {
     "name": "stdout",
     "output_type": "stream",
     "text": [
      "<class 'pandas.core.frame.DataFrame'>\n",
      "MultiIndex: 166355 entries, (17073783, 0) to (14360869, 77575)\n",
      "Data columns (total 43 columns):\n",
      "airconditioningtypeid           166355 non-null float64\n",
      "bathroomcnt                     166355 non-null float64\n",
      "bedroomcnt                      166355 non-null float64\n",
      "buildingqualitytypeid           166355 non-null float64\n",
      "calculatedfinishedsquarefeet    166355 non-null float64\n",
      "fips                            166355 non-null float64\n",
      "fireplacecnt                    166355 non-null float64\n",
      "garagecarcnt                    166355 non-null float64\n",
      "garagetotalsqft                 166355 non-null float64\n",
      "hashottuborspa                  166355 non-null float64\n",
      "heatingorsystemtypeid           166355 non-null float64\n",
      "latitude                        166355 non-null float64\n",
      "longitude                       166355 non-null float64\n",
      "lotsizesquarefeet               166355 non-null float64\n",
      "poolcnt                         166355 non-null float64\n",
      "poolsizesum                     166355 non-null float64\n",
      "pooltypeid2                     166355 non-null float64\n",
      "pooltypeid7                     166355 non-null float64\n",
      "propertycountylandusecode       166355 non-null float64\n",
      "propertylandusetypeid           166355 non-null float64\n",
      "propertyzoningdesc              166355 non-null float64\n",
      "rawcensustractandblock          166355 non-null float64\n",
      "regionidcity                    166355 non-null float64\n",
      "regionidcounty                  166355 non-null float64\n",
      "regionidneighborhood            166355 non-null float64\n",
      "regionidzip                     166355 non-null float64\n",
      "roomcnt                         166355 non-null float64\n",
      "threequarterbathnbr             166355 non-null float64\n",
      "unitcnt                         166355 non-null float64\n",
      "yearbuilt                       166355 non-null float64\n",
      "structuretaxvaluedollarcnt      166355 non-null float64\n",
      "taxvaluedollarcnt               166355 non-null float64\n",
      "assessmentyear                  166355 non-null float64\n",
      "landtaxvaluedollarcnt           166355 non-null float64\n",
      "taxamount                       166355 non-null float64\n",
      "censustractandblock             166355 non-null float64\n",
      "logerror                        166355 non-null float64\n",
      "transactiondate                 166355 non-null datetime64[ns]\n",
      "LivingAreaProp                  166355 non-null float64\n",
      "ExtraSpace                      166355 non-null float64\n",
      "PropUseType                     166355 non-null float64\n",
      "tax_avg                         166355 non-null float64\n",
      "tax_deviation                   166355 non-null float64\n",
      "dtypes: datetime64[ns](1), float64(42)\n",
      "memory usage: 57.8 MB\n"
     ]
    }
   ],
   "source": [
    "Housing_data = Housing_data.set_index(['parcelid','Unnamed: 0'])\n",
    "#del Housing_data['garagetotalsqft'] # this has a very large amount of missing data, so will be excluded for now\n",
    "Housing_data['transactiondate'] = pd.to_datetime(Housing_data['transactiondate'], \n",
    "                                                 format = '%Y-%m-%d', errors = 'coerce')\n",
    "#Housing_data['yearbuilt'] = pd.to_datetime(Housing_data['yearbuilt'], format='%Y.0', errors='coerce').dt.year\n",
    "#Housing_data['assessmentyear'] = pd.to_datetime(Housing_data['assessmentyear'], \n",
    "                                                #format='%Y-%m-%d', errors='coerce').dt.year\n",
    "#Housing_data['taxdelinquencyyear'] = pd.to_datetime(Housing_data['taxdelinquencyyear'], \n",
    "                                                    #format='%Y-%m-%d', errors='coerce').dt.year\n",
    "\n",
    "#House_df = Housing_data.drop(['taxdelinquencyyear'], axis = 1)\n",
    "House_df = Housing_data.dropna()\n",
    "#House_df['yearbuiltint'] = House_df['yearbuilt'].astype(int)\n",
    "House_df.info()"
   ]
  },
  {
   "cell_type": "markdown",
   "metadata": {},
   "source": [
    "In earlier notebooks we identified a number of features which we showed a connection to the logerror clusters. However, right away we see a major problem with using these features for linear regression. Below are a few plots of some of these features. The rest can be found in the Visualizations notebook."
   ]
  },
  {
   "cell_type": "code",
   "execution_count": 4,
   "metadata": {},
   "outputs": [
    {
     "data": {
      "text/plain": [
       "Text(0.5,0,'regionidcity')"
      ]
     },
     "execution_count": 4,
     "metadata": {},
     "output_type": "execute_result"
    },
    {
     "data": {
      "image/png": "[encoded data removed]",
      "text/plain": [
       "<Figure size 720x720 with 4 Axes>"
      ]
     },
     "metadata": {},
     "output_type": "display_data"
    }
   ],
   "source": [
    "# Two subplots, unpack the axes array immediately\n",
    "f, ((ax1, ax2),(ax3,ax4)) = plt.subplots(2, 2, sharey=True, figsize = (10,10))\n",
    "ax1.set_ylabel(\"logerror\")\n",
    "ax1.scatter(House_df['fips'], House_df['logerror'], alpha = 0.3)\n",
    "ax1.set_title(\"Relationship between fips and logerror\")\n",
    "ax1.set_xlabel(\"fips\")\n",
    "ax2.scatter(House_df['regionidcounty'], House_df['logerror'], alpha = 0.3)\n",
    "ax2.set_title(\"Relationship between regionidcounty and logerror\")\n",
    "ax2.set_xlabel(\"regionidcounty\")\n",
    "ax3.set_ylabel(\"logerror\")\n",
    "ax3.scatter(House_df['yearbuilt'], House_df['logerror'], alpha = 0.3)\n",
    "ax3.set_title(\"Relationship between yearbuilt and logerror\")\n",
    "ax4.set_xlabel(\"yearbuilt\")\n",
    "ax4.scatter(House_df['regionidcity'], House_df['logerror'], alpha = 0.3)\n",
    "ax4.set_title(\"Relationship between regionidcity and logerror\")\n",
    "ax4.set_xlabel(\"regionidcity\")"
   ]
  },
  {
   "cell_type": "markdown",
   "metadata": {},
   "source": [
    "In the notebook Visualizations we look at several other features to arrive at the following list of features which aid in indentifying the clusers (like yearbuilt and regionidcity above)."
   ]
  },
  {
   "cell_type": "code",
   "execution_count": 7,
   "metadata": {},
   "outputs": [
    {
     "name": "stdout",
     "output_type": "stream",
     "text": [
      "logerror ~ yearbuilt + latitude + longitude + propertycountylandusecode + propertyzoningdesc + bathroomcnt + taxamount + landtaxvaluedollarcnt + structuretaxvaluedollarcnt + taxvaluedollarcnt\n"
     ]
    }
   ],
   "source": [
    "cols_for_lin = ['yearbuilt', 'latitude', 'longitude', 'propertycountylandusecode', \n",
    "               'propertyzoningdesc', 'bathroomcnt', 'landtaxvaluedollarcnt', 'structuretaxvaluedollarcnt',\n",
    "               'taxvaluedollarcnt', 'taxamount']\n",
    "linstr = ('logerror ~ yearbuilt + latitude + longitude + propertycountylandusecode + '\n",
    "          'propertyzoningdesc + bathroomcnt + taxamount + landtaxvaluedollarcnt + '\n",
    "          'structuretaxvaluedollarcnt + taxvaluedollarcnt'\n",
    "         )\n",
    "print(linstr)"
   ]
  },
  {
   "cell_type": "markdown",
   "metadata": {},
   "source": [
    "As we see below and as we predicted, the linear regression is quite poor, but we have some information that we can use to find a better model.\n",
    "\n",
    "In particular, the $R^2$ value is exceedingly low so the model accounted for almost none of the errors observed. Additionally, we have a VERY low $F$-statistic, thought the associated $p$ value is also very low, so we can be assured that the coefficients are not zero."
   ]
  },
  {
   "cell_type": "code",
   "execution_count": 8,
   "metadata": {},
   "outputs": [
    {
     "name": "stdout",
     "output_type": "stream",
     "text": [
      "                            OLS Regression Results                            \n",
      "==============================================================================\n",
      "Dep. Variable:               logerror   R-squared:                       0.002\n",
      "Model:                            OLS   Adj. R-squared:                  0.002\n",
      "Method:                 Least Squares   F-statistic:                     37.54\n",
      "Date:                Mon, 10 Sep 2018   Prob (F-statistic):           2.01e-74\n",
      "Time:                        02:53:54   Log-Likelihood:                 65318.\n",
      "No. Observations:              166355   AIC:                        -1.306e+05\n",
      "Df Residuals:                  166344   BIC:                        -1.305e+05\n",
      "Df Model:                          10                                         \n",
      "Covariance Type:            nonrobust                                         \n",
      "==============================================================================================\n",
      "                                 coef    std err          t      P>|t|      [0.025      0.975]\n",
      "----------------------------------------------------------------------------------------------\n",
      "Intercept                      0.3451      0.146      2.365      0.018       0.059       0.631\n",
      "yearbuilt                  -7.247e-06      2e-05     -0.363      0.716   -4.64e-05    3.19e-05\n",
      "latitude                    1.813e-09   2.23e-09      0.811      0.417   -2.57e-09    6.19e-09\n",
      "longitude                   3.258e-09   1.42e-09      2.293      0.022    4.73e-10    6.04e-09\n",
      "propertycountylandusecode  -1.303e-05   1.62e-05     -0.806      0.420   -4.47e-05    1.86e-05\n",
      "propertyzoningdesc         -2.356e-06   7.65e-07     -3.079      0.002   -3.86e-06   -8.56e-07\n",
      "bathroomcnt                    0.0051      0.001      9.726      0.000       0.004       0.006\n",
      "taxamount                  -3.217e-06   2.41e-07    -13.363      0.000   -3.69e-06   -2.75e-06\n",
      "landtaxvaluedollarcnt      -1.104e-07   1.92e-08     -5.744      0.000   -1.48e-07   -7.27e-08\n",
      "structuretaxvaluedollarcnt -9.984e-08   1.94e-08     -5.139      0.000   -1.38e-07   -6.18e-08\n",
      "taxvaluedollarcnt           1.419e-07   1.93e-08      7.336      0.000    1.04e-07     1.8e-07\n",
      "==============================================================================\n",
      "Omnibus:                   139916.146   Durbin-Watson:                   1.993\n",
      "Prob(Omnibus):                  0.000   Jarque-Bera (JB):        109739906.186\n",
      "Skew:                           2.890   Prob(JB):                         0.00\n",
      "Kurtosis:                     128.693   Cond. No.                     4.48e+10\n",
      "==============================================================================\n",
      "\n",
      "Warnings:\n",
      "[1] Standard Errors assume that the covariance matrix of the errors is correctly specified.\n",
      "[2] The condition number is large, 4.48e+10. This might indicate that there are\n",
      "strong multicollinearity or other numerical problems.\n"
     ]
    }
   ],
   "source": [
    "m_house = ols(linstr,House_df).fit()\n",
    "print(m_house.summary())"
   ]
  },
  {
   "cell_type": "code",
   "execution_count": 9,
   "metadata": {},
   "outputs": [
    {
     "data": {
      "text/plain": [
       "<matplotlib.collections.PathCollection at 0x103934240>"
      ]
     },
     "execution_count": 9,
     "metadata": {},
     "output_type": "execute_result"
    },
    {
     "data": {
      "image/png": "[encoded data removed]",
      "text/plain": [
       "<Figure size 432x288 with 1 Axes>"
      ]
     },
     "metadata": {},
     "output_type": "display_data"
    }
   ],
   "source": [
    "plt.figure()\n",
    "plt.xlabel(\"fitted values\")\n",
    "plt.ylabel(\"residuals\")\n",
    "plt.scatter(m_house.fittedvalues,m_house.resid)"
   ]
  },
  {
   "cell_type": "markdown",
   "metadata": {},
   "source": [
    "Here we note a very distinctive $+$ shapped plot indicating that we have a non-linear relationship between features and logerror. Confirming that we need something other than a linear regression."
   ]
  },
  {
   "cell_type": "code",
   "execution_count": 10,
   "metadata": {},
   "outputs": [
    {
     "data": {
      "image/png": "[encoded data removed]",
      "text/plain": [
       "<Figure size 432x288 with 1 Axes>"
      ]
     },
     "metadata": {},
     "output_type": "display_data"
    }
   ],
   "source": [
    "import pylab\n",
    "plt.figure()\n",
    "stats.probplot(m_house.resid, dist=\"norm\", plot=pylab)\n",
    "pylab.title(\"Quantile plot of residuals\")\n",
    "pylab.show()"
   ]
  },
  {
   "cell_type": "markdown",
   "metadata": {},
   "source": [
    "So, this plot tells us our data has more extreme data values than a normal distribution.\n",
    "\n",
    "Finally we will load up a sklearn linear regression in order to evaulate its accuracy as a final test."
   ]
  },
  {
   "cell_type": "code",
   "execution_count": 11,
   "metadata": {},
   "outputs": [
    {
     "name": "stdout",
     "output_type": "stream",
     "text": [
      "linear model coeff (w): [-1.30236142e-05  4.08135707e-09  3.42730822e-09 -1.33799474e-05\n",
      " -2.91999473e-06  4.95823380e-03 -9.53958819e-08 -8.46491041e-08\n",
      "  1.28610347e-07 -3.42250019e-06]\n",
      "linear model intercept (b): 0.300\n",
      "R-squared score (training): 0.002\n",
      "R-squared score (test): 0.002\n"
     ]
    }
   ],
   "source": [
    "from sklearn.linear_model import LinearRegression\n",
    "\n",
    "X_train, X_test, y_train, y_test = train_test_split(House_df[cols_for_lin], House_df['logerror'],# test_size = 0.5,\n",
    "                                                   random_state = 0)\n",
    "linreg = LinearRegression().fit(X_train, y_train)\n",
    "\n",
    "print('linear model coeff (w): {}'\n",
    "     .format(linreg.coef_))\n",
    "print('linear model intercept (b): {:.3f}'\n",
    "     .format(linreg.intercept_))\n",
    "print('R-squared score (training): {:.3f}'\n",
    "     .format(linreg.score(X_train, y_train)))\n",
    "print('R-squared score (test): {:.3f}'\n",
    "     .format(linreg.score(X_test, y_test)))"
   ]
  },
  {
   "cell_type": "markdown",
   "metadata": {},
   "source": [
    "## Polynomial Regression\n",
    "****\n",
    "Now we will try to fit with a polynomial regression. First we will try to find the best degree for the polynomial. We will fit a polynomial LinearRegression model on the training data `X_train` for degrees 0 through 9. For each model we compute the $R^2$ (coefficient of determination) regression score on the training data as well as the the test data."
   ]
  },
  {
   "cell_type": "code",
   "execution_count": 12,
   "metadata": {},
   "outputs": [],
   "source": [
    "from sklearn.preprocessing import PolynomialFeatures\n",
    "degree_range = [1,3,6,9]\n",
    "\n",
    "# This fucntion does the polynomial transformation alone and spits out an array of transformed\n",
    "# data for each degree. It is kept seperate in case I dont want to transform every time I fit.\n",
    "# For now, it is not being used.\n",
    "\n",
    "def build_transforms(degrees): \n",
    "    transformed_train = []\n",
    "    for i in degrees:\n",
    "        X_train_poly = PolynomialFeatures(degree=i).fit_transform(X_train)\n",
    "        transformed_train.append(X_train_poly)\n",
    "\n",
    "    transformed_test = []\n",
    "    for i in degrees:\n",
    "        X_test_poly = PolynomialFeatures(degree=i).fit_transform(X_test)\n",
    "        transformed_test.append(X_test_poly)\n",
    "        \n",
    "    return transformed_train, transformed_test\n",
    "\n",
    "#transformed_train, transformed_test = build_transforms(degree_range)"
   ]
  },
  {
   "cell_type": "code",
   "execution_count": 14,
   "metadata": {},
   "outputs": [
    {
     "name": "stdout",
     "output_type": "stream",
     "text": [
      "[0.         0.00226467 0.00609518 0.01169492 0.017403   0.02115935]\n"
     ]
    }
   ],
   "source": [
    "from sklearn.metrics.regression import r2_score\n",
    "\n",
    "\n",
    "def r2train_full(i): # this function transforms and fits\n",
    "    poly = PolynomialFeatures(degree=i)\n",
    "    X_train_poly = poly.fit_transform(X_train)\n",
    "    linreg = LinearRegression().fit(X_train_poly, y_train)\n",
    "        \n",
    "    r2_train = linreg.score(X_train_poly, y_train)\n",
    "    return r2_train\n",
    "\n",
    "def r2train(i): # in case the transforming func is used, apply this func (not currently being used.)\n",
    "    linreg = LinearRegression().fit(transformed_train[i], y_train)\n",
    "        \n",
    "    r2_train = linreg.score(transformed_train[i], y_train)\n",
    "    return r2_train\n",
    "\n",
    "r2_train_list = []\n",
    "for i in degree_range:\n",
    "    r2_train_list.append(r2train_full(i))\n",
    "    #r2_train_list.append(r2train(i))\n",
    "    \n",
    "r2_train = np.array(r2_train_list)\n",
    "\n",
    "print(r2_train)"
   ]
  },
  {
   "cell_type": "code",
   "execution_count": 13,
   "metadata": {},
   "outputs": [
    {
     "name": "stdout",
     "output_type": "stream",
     "text": [
      "[-2.59917439e-05  2.06857665e-03  1.55896631e-04 -1.88191654e+00\n",
      " -1.06994919e+02 -1.60071667e+06]\n"
     ]
    }
   ],
   "source": [
    "def r2test_full(i):  # this function transforms and fits\n",
    "    poly = PolynomialFeatures(degree=i)\n",
    "    X_train_poly = poly.fit_transform(X_train)\n",
    "    X_test_poly = poly.fit_transform(X_test)\n",
    "    linreg = LinearRegression().fit(X_train_poly, y_train)\n",
    "        \n",
    "    r2_test = linreg.score(X_test_poly, y_test)\n",
    "    return r2_test\n",
    "\n",
    "def r2test(i): # in case the transforming func is used, apply this func (not currently being used.)\n",
    "    linreg = LinearRegression().fit(transformed_test[i], y_train)\n",
    "        \n",
    "    r2_test = linreg.score(transformed_test[i], y_test)\n",
    "    return r2_test\n",
    "\n",
    "r2_test_list = []\n",
    "for i in degree_range:\n",
    "    #r2_test_list.append(r2test(i))\n",
    "    r2_test_list.append(r2test_full(i))\n",
    "    \n",
    "r2_test = np.array(r2_test_list)\n",
    "print(r2_test)   "
   ]
  },
  {
   "cell_type": "markdown",
   "metadata": {},
   "source": [
    "Here we note that when the degree is _ we note that the model is underfitting, while it overfits for degree _. But we see that _ is a decent fit. Next we will try a lasso regression."
   ]
  },
  {
   "cell_type": "code",
   "execution_count": 15,
   "metadata": {},
   "outputs": [
    {
     "name": "stdout",
     "output_type": "stream",
     "text": [
      "For degree  2  lassos score is  0.0030122654252795478\n"
     ]
    },
    {
     "name": "stderr",
     "output_type": "stream",
     "text": [
      "/anaconda3/lib/python3.6/site-packages/sklearn/linear_model/coordinate_descent.py:491: ConvergenceWarning: Objective did not converge. You might want to increase the number of iterations. Fitting data with very small alpha may cause precision problems.\n",
      "  ConvergenceWarning)\n"
     ]
    }
   ],
   "source": [
    "from sklearn.linear_model import Lasso\n",
    "best_degree = 2\n",
    "\n",
    "def LinLasso(i):\n",
    "    poly = PolynomialFeatures(degree=i)\n",
    "    X_train_poly = poly.fit_transform(X_train)\n",
    "    X_test_poly = poly.fit_transform(X_test)\n",
    "        \n",
    "    linlasso = Lasso(alpha=0.1, max_iter = 10000).fit(X_train_poly, y_train)\n",
    "        \n",
    "    r2_test = linlasso.score(X_test_poly, y_test)\n",
    "    return r2_test\n",
    "\n",
    "#print('For degree 12, lassos score is ', LinLasso(12))\n",
    "print('For degree ',best_degree,' lassos score is ', LinLasso(best_degree))"
   ]
  },
  {
   "cell_type": "markdown",
   "metadata": {},
   "source": [
    "Next we do a basic Ridge Regression"
   ]
  },
  {
   "cell_type": "code",
   "execution_count": 16,
   "metadata": {},
   "outputs": [
    {
     "name": "stdout",
     "output_type": "stream",
     "text": [
      "Housing dataset\n",
      "ridge regression linear model intercept: 0.0009485739296281395\n",
      "ridge regression linear model coeff:\n",
      "[ 0.00111642  0.00487968  0.00572681  0.00078463 -0.00687251  0.08712993\n",
      " -0.03652932  0.02024342 -0.02592647 -0.11657148]\n",
      "R-squared score (training): 0.001\n",
      "R-squared score (test): 0.001\n",
      "Number of non-zero features: 10\n"
     ]
    }
   ],
   "source": [
    "from sklearn.linear_model import Ridge\n",
    "from sklearn.preprocessing import MinMaxScaler\n",
    "scaler = MinMaxScaler()\n",
    "\n",
    "X_train_scaled = scaler.fit_transform(X_train)\n",
    "X_test_scaled = scaler.transform(X_test)\n",
    "\n",
    "linridge = Ridge(alpha=20.0).fit(X_train_scaled, y_train)\n",
    "\n",
    "print('Housing dataset')\n",
    "print('ridge regression linear model intercept: {}'\n",
    "     .format(linridge.intercept_))\n",
    "print('ridge regression linear model coeff:\\n{}'\n",
    "     .format(linridge.coef_))\n",
    "print('R-squared score (training): {:.3f}'\n",
    "     .format(linridge.score(X_train_scaled, y_train)))\n",
    "print('R-squared score (test): {:.3f}'\n",
    "     .format(linridge.score(X_test_scaled, y_test)))\n",
    "print('Number of non-zero features: {}'\n",
    "     .format(np.sum(linridge.coef_ != 0)))"
   ]
  },
  {
   "cell_type": "code",
   "execution_count": null,
   "metadata": {},
   "outputs": [],
   "source": []
  }
 ],
 "metadata": {
  "kernelspec": {
   "display_name": "Python 3",
   "language": "python",
   "name": "python3"
  },
  "language_info": {
   "codemirror_mode": {
    "name": "ipython",
    "version": 3
   },
   "file_extension": ".py",
   "mimetype": "text/x-python",
   "name": "python",
   "nbconvert_exporter": "python",
   "pygments_lexer": "ipython3",
   "version": "3.6.5"
  }
 },
 "nbformat": 4,
 "nbformat_minor": 2
}
