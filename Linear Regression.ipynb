{
 "cells": [
  {
   "cell_type": "markdown",
   "metadata": {},
   "source": [
    "# Linear Regression\n",
    "****\n",
    "\n",
    "We already know that a linear regression will not be a suitable model since our primary goal is to find a way to accurately identify the logerror clusters at $\\pm 2$. However, we will still use a linear regression model to gain some insights into the data."
   ]
  },
  {
   "cell_type": "code",
   "execution_count": 1,
   "metadata": {},
   "outputs": [],
   "source": [
    "# data analysis and wrangling\n",
    "import pandas as pd\n",
    "import numpy as np\n",
    "import random as rnd\n",
    "import matplotlib.gridspec as gridspec\n",
    "import datetime\n",
    "import math\n",
    "import scipy.stats as stats\n",
    "import sklearn\n",
    "\n",
    "# Import regression modules\n",
    "import statsmodels.api as sm\n",
    "from statsmodels.formula.api import ols\n",
    "from sklearn.model_selection import train_test_split\n",
    "from sklearn.neighbors import KNeighborsClassifier\n",
    "\n",
    "# visualization\n",
    "import seaborn as sns\n",
    "import matplotlib.pyplot as plt\n",
    "%matplotlib notebook\n",
    "from IPython.core.display import display, HTML\n",
    "#display(HTML(\"<style>.rendered_html{font-size: 18px; line-height: 1.4}</style>\"))\n",
    "\n",
    "# special IPython command to prepare the notebook for matplotlib and other libraries\n",
    "%matplotlib inline "
   ]
  },
  {
   "cell_type": "code",
   "execution_count": 2,
   "metadata": {},
   "outputs": [
    {
     "name": "stdout",
     "output_type": "stream",
     "text": [
      "<class 'pandas.core.frame.DataFrame'>\n",
      "RangeIndex: 166532 entries, 0 to 166531\n",
      "Data columns (total 28 columns):\n",
      "parcelid                        166532 non-null int64\n",
      "Unnamed: 0                      166532 non-null int64\n",
      "calculatedfinishedsquarefeet    166532 non-null float64\n",
      "bathroomcnt                     166532 non-null float64\n",
      "bedroomcnt                      166532 non-null float64\n",
      "buildingqualitytypeid           166532 non-null float64\n",
      "fireplacecnt                    166532 non-null float64\n",
      "garagecarcnt                    166532 non-null float64\n",
      "garagetotalsqft                 166532 non-null float64\n",
      "heatingorsystemtypeid           166532 non-null float64\n",
      "lotsizesquarefeet               166532 non-null float64\n",
      "poolsizesum                     166532 non-null float64\n",
      "propertycountylandusecode       166532 non-null float64\n",
      "propertylandusetypeid           166532 non-null float64\n",
      "propertyzoningdesc              166532 non-null float64\n",
      "regionidcity                    166532 non-null float64\n",
      "regionidneighborhood            166532 non-null float64\n",
      "roomcnt                         166532 non-null float64\n",
      "yearbuilt                       166532 non-null float64\n",
      "structuretaxvaluedollarcnt      166532 non-null float64\n",
      "taxvaluedollarcnt               166532 non-null float64\n",
      "landtaxvaluedollarcnt           166532 non-null float64\n",
      "taxamount                       166532 non-null float64\n",
      "tax_deviation                   166532 non-null float64\n",
      "latitude                        166532 non-null float64\n",
      "longitude                       166532 non-null float64\n",
      "transactiondate                 166532 non-null object\n",
      "logerror                        166532 non-null float64\n",
      "dtypes: float64(25), int64(2), object(1)\n",
      "memory usage: 35.6+ MB\n",
      "None\n"
     ]
    },
    {
     "data": {
      "text/html": [
       "<div>\n",
       "<style scoped>\n",
       "    .dataframe tbody tr th:only-of-type {\n",
       "        vertical-align: middle;\n",
       "    }\n",
       "\n",
       "    .dataframe tbody tr th {\n",
       "        vertical-align: top;\n",
       "    }\n",
       "\n",
       "    .dataframe thead th {\n",
       "        text-align: right;\n",
       "    }\n",
       "</style>\n",
       "<table border=\"1\" class=\"dataframe\">\n",
       "  <thead>\n",
       "    <tr style=\"text-align: right;\">\n",
       "      <th></th>\n",
       "      <th>parcelid</th>\n",
       "      <th>Unnamed: 0</th>\n",
       "      <th>calculatedfinishedsquarefeet</th>\n",
       "      <th>bathroomcnt</th>\n",
       "      <th>bedroomcnt</th>\n",
       "      <th>buildingqualitytypeid</th>\n",
       "      <th>fireplacecnt</th>\n",
       "      <th>garagecarcnt</th>\n",
       "      <th>garagetotalsqft</th>\n",
       "      <th>heatingorsystemtypeid</th>\n",
       "      <th>...</th>\n",
       "      <th>yearbuilt</th>\n",
       "      <th>structuretaxvaluedollarcnt</th>\n",
       "      <th>taxvaluedollarcnt</th>\n",
       "      <th>landtaxvaluedollarcnt</th>\n",
       "      <th>taxamount</th>\n",
       "      <th>tax_deviation</th>\n",
       "      <th>latitude</th>\n",
       "      <th>longitude</th>\n",
       "      <th>transactiondate</th>\n",
       "      <th>logerror</th>\n",
       "    </tr>\n",
       "  </thead>\n",
       "  <tbody>\n",
       "    <tr>\n",
       "      <th>0</th>\n",
       "      <td>17073783</td>\n",
       "      <td>0</td>\n",
       "      <td>1264.0</td>\n",
       "      <td>2.5</td>\n",
       "      <td>3.0</td>\n",
       "      <td>9.0</td>\n",
       "      <td>0.0</td>\n",
       "      <td>2.0</td>\n",
       "      <td>0.0</td>\n",
       "      <td>2.0</td>\n",
       "      <td>...</td>\n",
       "      <td>1986.0</td>\n",
       "      <td>115087.0</td>\n",
       "      <td>191811.0</td>\n",
       "      <td>76724.0</td>\n",
       "      <td>2015.06</td>\n",
       "      <td>0.272081</td>\n",
       "      <td>34303596.0</td>\n",
       "      <td>-119287230.0</td>\n",
       "      <td>2016-01-27</td>\n",
       "      <td>0.0953</td>\n",
       "    </tr>\n",
       "    <tr>\n",
       "      <th>1</th>\n",
       "      <td>17088994</td>\n",
       "      <td>1</td>\n",
       "      <td>777.0</td>\n",
       "      <td>1.0</td>\n",
       "      <td>2.0</td>\n",
       "      <td>9.0</td>\n",
       "      <td>0.0</td>\n",
       "      <td>1.0</td>\n",
       "      <td>0.0</td>\n",
       "      <td>2.0</td>\n",
       "      <td>...</td>\n",
       "      <td>1990.0</td>\n",
       "      <td>143809.0</td>\n",
       "      <td>239679.0</td>\n",
       "      <td>95870.0</td>\n",
       "      <td>2581.30</td>\n",
       "      <td>0.090416</td>\n",
       "      <td>34272864.0</td>\n",
       "      <td>-119198910.0</td>\n",
       "      <td>2016-03-30</td>\n",
       "      <td>0.0198</td>\n",
       "    </tr>\n",
       "    <tr>\n",
       "      <th>2</th>\n",
       "      <td>17100444</td>\n",
       "      <td>2</td>\n",
       "      <td>1101.0</td>\n",
       "      <td>2.0</td>\n",
       "      <td>3.0</td>\n",
       "      <td>9.0</td>\n",
       "      <td>0.0</td>\n",
       "      <td>2.0</td>\n",
       "      <td>441.0</td>\n",
       "      <td>2.0</td>\n",
       "      <td>...</td>\n",
       "      <td>1956.0</td>\n",
       "      <td>33619.0</td>\n",
       "      <td>47853.0</td>\n",
       "      <td>14234.0</td>\n",
       "      <td>591.64</td>\n",
       "      <td>0.736777</td>\n",
       "      <td>34340800.0</td>\n",
       "      <td>-119079610.0</td>\n",
       "      <td>2016-05-27</td>\n",
       "      <td>0.0060</td>\n",
       "    </tr>\n",
       "    <tr>\n",
       "      <th>3</th>\n",
       "      <td>17102429</td>\n",
       "      <td>3</td>\n",
       "      <td>1554.0</td>\n",
       "      <td>1.5</td>\n",
       "      <td>2.0</td>\n",
       "      <td>9.0</td>\n",
       "      <td>1.0</td>\n",
       "      <td>2.0</td>\n",
       "      <td>460.0</td>\n",
       "      <td>2.0</td>\n",
       "      <td>...</td>\n",
       "      <td>1965.0</td>\n",
       "      <td>45609.0</td>\n",
       "      <td>62914.0</td>\n",
       "      <td>17305.0</td>\n",
       "      <td>682.78</td>\n",
       "      <td>0.642900</td>\n",
       "      <td>34354310.0</td>\n",
       "      <td>-119076410.0</td>\n",
       "      <td>2016-06-07</td>\n",
       "      <td>-0.0566</td>\n",
       "    </tr>\n",
       "    <tr>\n",
       "      <th>4</th>\n",
       "      <td>17109604</td>\n",
       "      <td>4</td>\n",
       "      <td>2415.0</td>\n",
       "      <td>2.5</td>\n",
       "      <td>4.0</td>\n",
       "      <td>9.0</td>\n",
       "      <td>1.0</td>\n",
       "      <td>2.0</td>\n",
       "      <td>665.0</td>\n",
       "      <td>2.0</td>\n",
       "      <td>...</td>\n",
       "      <td>1984.0</td>\n",
       "      <td>277000.0</td>\n",
       "      <td>554000.0</td>\n",
       "      <td>277000.0</td>\n",
       "      <td>5886.92</td>\n",
       "      <td>0.752010</td>\n",
       "      <td>34266576.0</td>\n",
       "      <td>-119165390.0</td>\n",
       "      <td>2016-08-08</td>\n",
       "      <td>0.0573</td>\n",
       "    </tr>\n",
       "  </tbody>\n",
       "</table>\n",
       "<p>5 rows × 28 columns</p>\n",
       "</div>"
      ],
      "text/plain": [
       "   parcelid  Unnamed: 0  calculatedfinishedsquarefeet  bathroomcnt  \\\n",
       "0  17073783           0                        1264.0          2.5   \n",
       "1  17088994           1                         777.0          1.0   \n",
       "2  17100444           2                        1101.0          2.0   \n",
       "3  17102429           3                        1554.0          1.5   \n",
       "4  17109604           4                        2415.0          2.5   \n",
       "\n",
       "   bedroomcnt  buildingqualitytypeid  fireplacecnt  garagecarcnt  \\\n",
       "0         3.0                    9.0           0.0           2.0   \n",
       "1         2.0                    9.0           0.0           1.0   \n",
       "2         3.0                    9.0           0.0           2.0   \n",
       "3         2.0                    9.0           1.0           2.0   \n",
       "4         4.0                    9.0           1.0           2.0   \n",
       "\n",
       "   garagetotalsqft  heatingorsystemtypeid    ...     yearbuilt  \\\n",
       "0              0.0                    2.0    ...        1986.0   \n",
       "1              0.0                    2.0    ...        1990.0   \n",
       "2            441.0                    2.0    ...        1956.0   \n",
       "3            460.0                    2.0    ...        1965.0   \n",
       "4            665.0                    2.0    ...        1984.0   \n",
       "\n",
       "   structuretaxvaluedollarcnt  taxvaluedollarcnt  landtaxvaluedollarcnt  \\\n",
       "0                    115087.0           191811.0                76724.0   \n",
       "1                    143809.0           239679.0                95870.0   \n",
       "2                     33619.0            47853.0                14234.0   \n",
       "3                     45609.0            62914.0                17305.0   \n",
       "4                    277000.0           554000.0               277000.0   \n",
       "\n",
       "   taxamount  tax_deviation    latitude    longitude  transactiondate  \\\n",
       "0    2015.06       0.272081  34303596.0 -119287230.0       2016-01-27   \n",
       "1    2581.30       0.090416  34272864.0 -119198910.0       2016-03-30   \n",
       "2     591.64       0.736777  34340800.0 -119079610.0       2016-05-27   \n",
       "3     682.78       0.642900  34354310.0 -119076410.0       2016-06-07   \n",
       "4    5886.92       0.752010  34266576.0 -119165390.0       2016-08-08   \n",
       "\n",
       "   logerror  \n",
       "0    0.0953  \n",
       "1    0.0198  \n",
       "2    0.0060  \n",
       "3   -0.0566  \n",
       "4    0.0573  \n",
       "\n",
       "[5 rows x 28 columns]"
      ]
     },
     "execution_count": 2,
     "metadata": {},
     "output_type": "execute_result"
    }
   ],
   "source": [
    "Housing_data = pd.read_csv('for_reg.csv')\n",
    "print(Housing_data.info())\n",
    "Housing_data.head()"
   ]
  },
  {
   "cell_type": "code",
   "execution_count": 3,
   "metadata": {},
   "outputs": [
    {
     "name": "stdout",
     "output_type": "stream",
     "text": [
      "<class 'pandas.core.frame.DataFrame'>\n",
      "MultiIndex: 166532 entries, (17073783, 0) to (14360869, 77575)\n",
      "Data columns (total 26 columns):\n",
      "calculatedfinishedsquarefeet    166532 non-null float64\n",
      "bathroomcnt                     166532 non-null float64\n",
      "bedroomcnt                      166532 non-null float64\n",
      "buildingqualitytypeid           166532 non-null float64\n",
      "fireplacecnt                    166532 non-null float64\n",
      "garagecarcnt                    166532 non-null float64\n",
      "garagetotalsqft                 166532 non-null float64\n",
      "heatingorsystemtypeid           166532 non-null float64\n",
      "lotsizesquarefeet               166532 non-null float64\n",
      "poolsizesum                     166532 non-null float64\n",
      "propertycountylandusecode       166532 non-null float64\n",
      "propertylandusetypeid           166532 non-null float64\n",
      "propertyzoningdesc              166532 non-null float64\n",
      "regionidcity                    166532 non-null float64\n",
      "regionidneighborhood            166532 non-null float64\n",
      "roomcnt                         166532 non-null float64\n",
      "yearbuilt                       166532 non-null float64\n",
      "structuretaxvaluedollarcnt      166532 non-null float64\n",
      "taxvaluedollarcnt               166532 non-null float64\n",
      "landtaxvaluedollarcnt           166532 non-null float64\n",
      "taxamount                       166532 non-null float64\n",
      "tax_deviation                   166532 non-null float64\n",
      "latitude                        166532 non-null float64\n",
      "longitude                       166532 non-null float64\n",
      "transactiondate                 166532 non-null datetime64[ns]\n",
      "logerror                        166532 non-null float64\n",
      "dtypes: datetime64[ns](1), float64(25)\n",
      "memory usage: 36.2 MB\n"
     ]
    }
   ],
   "source": [
    "Housing_data = Housing_data.set_index(['parcelid','Unnamed: 0'])\n",
    "#del Housing_data['garagetotalsqft'] # this has a very large amount of missing data, so will be excluded for now\n",
    "Housing_data['transactiondate'] = pd.to_datetime(Housing_data['transactiondate'], \n",
    "                                                 format = '%Y-%m-%d', errors = 'coerce')\n",
    "#Housing_data['yearbuilt'] = pd.to_datetime(Housing_data['yearbuilt'], format='%Y.0', errors='coerce').dt.year\n",
    "#Housing_data['assessmentyear'] = pd.to_datetime(Housing_data['assessmentyear'], \n",
    "                                                #format='%Y-%m-%d', errors='coerce').dt.year\n",
    "#Housing_data['taxdelinquencyyear'] = pd.to_datetime(Housing_data['taxdelinquencyyear'], \n",
    "                                                    #format='%Y-%m-%d', errors='coerce').dt.year\n",
    "\n",
    "#House_df = Housing_data.drop(['taxdelinquencyyear'], axis = 1)\n",
    "House_df = Housing_data.dropna()\n",
    "#House_df['yearbuiltint'] = House_df['yearbuilt'].astype(int)\n",
    "House_df.info()"
   ]
  },
  {
   "cell_type": "markdown",
   "metadata": {},
   "source": [
    "In earlier notebooks we identified a number of features which we showed a connection to the logerror clusters. However, right away we see a major problem with using these features for linear regression. Below are a few plots of some of these features. The rest can be found in the Visualizations notebook."
   ]
  },
  {
   "cell_type": "code",
   "execution_count": null,
   "metadata": {},
   "outputs": [],
   "source": []
  },
  {
   "cell_type": "markdown",
   "metadata": {},
   "source": [
    "In the notebook Visualizations we look at several other features to arrive at the following list of features which aid in indentifying the clusers (like yearbuilt and regionidcity above)."
   ]
  },
  {
   "cell_type": "code",
   "execution_count": 4,
   "metadata": {},
   "outputs": [
    {
     "name": "stdout",
     "output_type": "stream",
     "text": [
      "logerror ~ calculatedfinishedsquarefeet + bathroomcnt + bedroomcnt + buildingqualitytypeid + fireplacecnt + garagecarcnt + garagetotalsqft + heatingorsystemtypeid + lotsizesquarefeet + poolsizesum + propertycountylandusecode + propertylandusetypeid + propertyzoningdesc + regionidcity + regionidneighborhood + roomcnt + yearbuilt + structuretaxvaluedollarcnt + taxvaluedollarcnt + landtaxvaluedollarcnt + taxamount + latitude + longitude\n"
     ]
    }
   ],
   "source": [
    "\n",
    "linstr = ('logerror ~ calculatedfinishedsquarefeet + bathroomcnt + bedroomcnt + buildingqualitytypeid + '\n",
    "          'fireplacecnt + garagecarcnt + garagetotalsqft + heatingorsystemtypeid + lotsizesquarefeet + '\n",
    "          'poolsizesum + propertycountylandusecode + propertylandusetypeid + propertyzoningdesc + '\n",
    "          'regionidcity + regionidneighborhood + roomcnt + yearbuilt + structuretaxvaluedollarcnt + '\n",
    "          'taxvaluedollarcnt + landtaxvaluedollarcnt + taxamount + latitude + longitude'\n",
    "         )\n",
    "print(linstr)"
   ]
  },
  {
   "cell_type": "markdown",
   "metadata": {},
   "source": [
    "As we see below and as we predicted, the linear regression is quite poor, but we have some information that we can use to find a better model.\n",
    "\n",
    "In particular, the $R^2$ value is exceedingly low so the model accounted for almost none of the errors observed. Additionally, we have a VERY low $F$-statistic, thought the associated $p$ value is also very low, so we can be assured that the coefficients are not zero."
   ]
  },
  {
   "cell_type": "code",
   "execution_count": 5,
   "metadata": {},
   "outputs": [
    {
     "name": "stdout",
     "output_type": "stream",
     "text": [
      "                            OLS Regression Results                            \n",
      "==============================================================================\n",
      "Dep. Variable:               logerror   R-squared:                       0.004\n",
      "Model:                            OLS   Adj. R-squared:                  0.004\n",
      "Method:                 Least Squares   F-statistic:                     31.32\n",
      "Date:                Mon, 10 Sep 2018   Prob (F-statistic):          4.60e-137\n",
      "Time:                        18:33:57   Log-Likelihood:                 65432.\n",
      "No. Observations:              166532   AIC:                        -1.308e+05\n",
      "Df Residuals:                  166508   BIC:                        -1.306e+05\n",
      "Df Model:                          23                                         \n",
      "Covariance Type:            nonrobust                                         \n",
      "================================================================================================\n",
      "                                   coef    std err          t      P>|t|      [0.025      0.975]\n",
      "------------------------------------------------------------------------------------------------\n",
      "Intercept                        0.1042      0.178      0.585      0.558      -0.245       0.453\n",
      "calculatedfinishedsquarefeet  1.318e-05   8.89e-07     14.834      0.000    1.14e-05    1.49e-05\n",
      "bathroomcnt                     -0.0016      0.001     -2.077      0.038      -0.003   -8.74e-05\n",
      "bedroomcnt                      -0.0001      0.001     -0.245      0.807      -0.001       0.001\n",
      "buildingqualitytypeid           -0.0002      0.000     -0.870      0.384      -0.001       0.000\n",
      "fireplacecnt                    -0.0046      0.001     -3.324      0.001      -0.007      -0.002\n",
      "garagecarcnt                     0.0021      0.001      1.670      0.095      -0.000       0.005\n",
      "garagetotalsqft              -5.132e-06   4.05e-06     -1.267      0.205   -1.31e-05    2.81e-06\n",
      "heatingorsystemtypeid           -0.0006      0.000     -3.888      0.000      -0.001      -0.000\n",
      "lotsizesquarefeet             1.736e-08   3.55e-09      4.895      0.000    1.04e-08    2.43e-08\n",
      "poolsizesum                  -1.823e-05   2.11e-06     -8.639      0.000   -2.24e-05   -1.41e-05\n",
      "propertycountylandusecode       -0.0001   2.95e-05     -4.058      0.000      -0.000   -6.19e-05\n",
      "propertylandusetypeid            0.0003   9.71e-05      2.794      0.005     8.1e-05       0.000\n",
      "propertyzoningdesc           -2.119e-06   7.75e-07     -2.734      0.006   -3.64e-06      -6e-07\n",
      "regionidcity                  3.101e-09   8.61e-09      0.360      0.719   -1.38e-08       2e-08\n",
      "regionidneighborhood          2.536e-09    1.6e-09      1.581      0.114   -6.07e-10    5.68e-09\n",
      "roomcnt                          0.0011      0.000      3.948      0.000       0.001       0.002\n",
      "yearbuilt                     1.863e-05   2.34e-05      0.797      0.425   -2.72e-05    6.44e-05\n",
      "structuretaxvaluedollarcnt   -1.052e-07   1.94e-08     -5.413      0.000   -1.43e-07   -6.71e-08\n",
      "taxvaluedollarcnt             1.298e-07   1.94e-08      6.701      0.000    9.19e-08    1.68e-07\n",
      "landtaxvaluedollarcnt        -9.687e-08   1.92e-08     -5.033      0.000   -1.35e-07   -5.91e-08\n",
      "taxamount                    -3.396e-06   2.42e-07    -14.012      0.000   -3.87e-06   -2.92e-06\n",
      "latitude                     -1.191e-09   2.32e-09     -0.512      0.608   -5.75e-09    3.36e-09\n",
      "longitude                     1.381e-09    1.6e-09      0.863      0.388   -1.75e-09    4.52e-09\n",
      "==============================================================================\n",
      "Omnibus:                   139899.924   Durbin-Watson:                   1.993\n",
      "Prob(Omnibus):                  0.000   Jarque-Bera (JB):        109613487.160\n",
      "Skew:                           2.884   Prob(JB):                         0.00\n",
      "Kurtosis:                     128.554   Cond. No.                     5.47e+10\n",
      "==============================================================================\n",
      "\n",
      "Warnings:\n",
      "[1] Standard Errors assume that the covariance matrix of the errors is correctly specified.\n",
      "[2] The condition number is large, 5.47e+10. This might indicate that there are\n",
      "strong multicollinearity or other numerical problems.\n"
     ]
    }
   ],
   "source": [
    "m_house = ols(linstr,House_df).fit()\n",
    "print(m_house.summary())"
   ]
  },
  {
   "cell_type": "code",
   "execution_count": 6,
   "metadata": {},
   "outputs": [
    {
     "data": {
      "text/plain": [
       "<matplotlib.collections.PathCollection at 0x10c1171d0>"
      ]
     },
     "execution_count": 6,
     "metadata": {},
     "output_type": "execute_result"
    },
    {
     "data": {
      "image/png": "[encoded data removed]",
      "text/plain": [
       "<Figure size 432x288 with 1 Axes>"
      ]
     },
     "metadata": {},
     "output_type": "display_data"
    }
   ],
   "source": [
    "plt.figure()\n",
    "plt.xlabel(\"fitted values\")\n",
    "plt.ylabel(\"residuals\")\n",
    "plt.scatter(m_house.fittedvalues,m_house.resid)"
   ]
  },
  {
   "cell_type": "markdown",
   "metadata": {},
   "source": [
    "Here we note a very distinctive $+$ shapped plot indicating that we have a non-linear relationship between features and logerror. Confirming that we need something other than a linear regression."
   ]
  },
  {
   "cell_type": "code",
   "execution_count": 7,
   "metadata": {},
   "outputs": [
    {
     "data": {
      "image/png": "[encoded data removed]",
      "text/plain": [
       "<Figure size 432x288 with 1 Axes>"
      ]
     },
     "metadata": {},
     "output_type": "display_data"
    }
   ],
   "source": [
    "import pylab\n",
    "plt.figure()\n",
    "stats.probplot(m_house.resid, dist=\"norm\", plot=pylab)\n",
    "pylab.title(\"Quantile plot of residuals\")\n",
    "pylab.show()"
   ]
  },
  {
   "cell_type": "markdown",
   "metadata": {},
   "source": [
    "So, this plot tells us our data has more extreme data values than a normal distribution.\n",
    "\n",
    "Finally we will load up a sklearn linear regression in order to evaulate its accuracy as a final test."
   ]
  },
  {
   "cell_type": "code",
   "execution_count": 8,
   "metadata": {},
   "outputs": [
    {
     "ename": "NameError",
     "evalue": "name 'cols_for_lin' is not defined",
     "output_type": "error",
     "traceback": [
      "\u001b[0;31m---------------------------------------------------------------------------\u001b[0m",
      "\u001b[0;31mNameError\u001b[0m                                 Traceback (most recent call last)",
      "\u001b[0;32m<ipython-input-8-884590aa9491>\u001b[0m in \u001b[0;36m<module>\u001b[0;34m()\u001b[0m\n\u001b[1;32m      1\u001b[0m \u001b[0;32mfrom\u001b[0m \u001b[0msklearn\u001b[0m\u001b[0;34m.\u001b[0m\u001b[0mlinear_model\u001b[0m \u001b[0;32mimport\u001b[0m \u001b[0mLinearRegression\u001b[0m\u001b[0;34m\u001b[0m\u001b[0m\n\u001b[1;32m      2\u001b[0m \u001b[0;34m\u001b[0m\u001b[0m\n\u001b[0;32m----> 3\u001b[0;31m X_train, X_test, y_train, y_test = train_test_split(House_df[cols_for_lin], House_df['logerror'],# test_size = 0.5,\n\u001b[0m\u001b[1;32m      4\u001b[0m                                                    random_state = 0)\n\u001b[1;32m      5\u001b[0m \u001b[0mlinreg\u001b[0m \u001b[0;34m=\u001b[0m \u001b[0mLinearRegression\u001b[0m\u001b[0;34m(\u001b[0m\u001b[0;34m)\u001b[0m\u001b[0;34m.\u001b[0m\u001b[0mfit\u001b[0m\u001b[0;34m(\u001b[0m\u001b[0mX_train\u001b[0m\u001b[0;34m,\u001b[0m \u001b[0my_train\u001b[0m\u001b[0;34m)\u001b[0m\u001b[0;34m\u001b[0m\u001b[0m\n",
      "\u001b[0;31mNameError\u001b[0m: name 'cols_for_lin' is not defined"
     ]
    }
   ],
   "source": [
    "from sklearn.linear_model import LinearRegression\n",
    "\n",
    "X_train, X_test, y_train, y_test = train_test_split(House_df[cols_for_lin], House_df['logerror'],# test_size = 0.5,\n",
    "                                                   random_state = 0)\n",
    "linreg = LinearRegression().fit(X_train, y_train)\n",
    "\n",
    "print('linear model coeff (w): {}'\n",
    "     .format(linreg.coef_))\n",
    "print('linear model intercept (b): {:.3f}'\n",
    "     .format(linreg.intercept_))\n",
    "print('R-squared score (training): {:.3f}'\n",
    "     .format(linreg.score(X_train, y_train)))\n",
    "print('R-squared score (test): {:.3f}'\n",
    "     .format(linreg.score(X_test, y_test)))"
   ]
  },
  {
   "cell_type": "markdown",
   "metadata": {},
   "source": [
    "## Polynomial Regression\n",
    "****\n",
    "Now we will try to fit with a polynomial regression. First we will try to find the best degree for the polynomial. We will fit a polynomial LinearRegression model on the training data `X_train` for degrees 0 through 9. For each model we compute the $R^2$ (coefficient of determination) regression score on the training data as well as the the test data."
   ]
  },
  {
   "cell_type": "code",
   "execution_count": 12,
   "metadata": {},
   "outputs": [],
   "source": [
    "from sklearn.preprocessing import PolynomialFeatures\n",
    "degree_range = [1,3,6,9]\n",
    "\n",
    "# This fucntion does the polynomial transformation alone and spits out an array of transformed\n",
    "# data for each degree. It is kept seperate in case I dont want to transform every time I fit.\n",
    "# For now, it is not being used.\n",
    "\n",
    "def build_transforms(degrees): \n",
    "    transformed_train = []\n",
    "    for i in degrees:\n",
    "        X_train_poly = PolynomialFeatures(degree=i).fit_transform(X_train)\n",
    "        transformed_train.append(X_train_poly)\n",
    "\n",
    "    transformed_test = []\n",
    "    for i in degrees:\n",
    "        X_test_poly = PolynomialFeatures(degree=i).fit_transform(X_test)\n",
    "        transformed_test.append(X_test_poly)\n",
    "        \n",
    "    return transformed_train, transformed_test\n",
    "\n",
    "#transformed_train, transformed_test = build_transforms(degree_range)"
   ]
  },
  {
   "cell_type": "code",
   "execution_count": 14,
   "metadata": {},
   "outputs": [
    {
     "name": "stdout",
     "output_type": "stream",
     "text": [
      "[0.         0.00226467 0.00609518 0.01169492 0.017403   0.02115935]\n"
     ]
    }
   ],
   "source": [
    "from sklearn.metrics.regression import r2_score\n",
    "\n",
    "\n",
    "def r2train_full(i): # this function transforms and fits\n",
    "    poly = PolynomialFeatures(degree=i)\n",
    "    X_train_poly = poly.fit_transform(X_train)\n",
    "    linreg = LinearRegression().fit(X_train_poly, y_train)\n",
    "        \n",
    "    r2_train = linreg.score(X_train_poly, y_train)\n",
    "    return r2_train\n",
    "\n",
    "def r2train(i): # in case the transforming func is used, apply this func (not currently being used.)\n",
    "    linreg = LinearRegression().fit(transformed_train[i], y_train)\n",
    "        \n",
    "    r2_train = linreg.score(transformed_train[i], y_train)\n",
    "    return r2_train\n",
    "\n",
    "r2_train_list = []\n",
    "for i in degree_range:\n",
    "    r2_train_list.append(r2train_full(i))\n",
    "    #r2_train_list.append(r2train(i))\n",
    "    \n",
    "r2_train = np.array(r2_train_list)\n",
    "\n",
    "print(r2_train)"
   ]
  },
  {
   "cell_type": "code",
   "execution_count": 13,
   "metadata": {},
   "outputs": [
    {
     "name": "stdout",
     "output_type": "stream",
     "text": [
      "[-2.59917439e-05  2.06857665e-03  1.55896631e-04 -1.88191654e+00\n",
      " -1.06994919e+02 -1.60071667e+06]\n"
     ]
    }
   ],
   "source": [
    "def r2test_full(i):  # this function transforms and fits\n",
    "    poly = PolynomialFeatures(degree=i)\n",
    "    X_train_poly = poly.fit_transform(X_train)\n",
    "    X_test_poly = poly.fit_transform(X_test)\n",
    "    linreg = LinearRegression().fit(X_train_poly, y_train)\n",
    "        \n",
    "    r2_test = linreg.score(X_test_poly, y_test)\n",
    "    return r2_test\n",
    "\n",
    "def r2test(i): # in case the transforming func is used, apply this func (not currently being used.)\n",
    "    linreg = LinearRegression().fit(transformed_test[i], y_train)\n",
    "        \n",
    "    r2_test = linreg.score(transformed_test[i], y_test)\n",
    "    return r2_test\n",
    "\n",
    "r2_test_list = []\n",
    "for i in degree_range:\n",
    "    #r2_test_list.append(r2test(i))\n",
    "    r2_test_list.append(r2test_full(i))\n",
    "    \n",
    "r2_test = np.array(r2_test_list)\n",
    "print(r2_test)   "
   ]
  },
  {
   "cell_type": "markdown",
   "metadata": {},
   "source": [
    "Here we note that when the degree is _ we note that the model is underfitting, while it overfits for degree _. But we see that _ is a decent fit. Next we will try a lasso regression."
   ]
  },
  {
   "cell_type": "code",
   "execution_count": 15,
   "metadata": {},
   "outputs": [
    {
     "name": "stdout",
     "output_type": "stream",
     "text": [
      "For degree  2  lassos score is  0.0030122654252795478\n"
     ]
    },
    {
     "name": "stderr",
     "output_type": "stream",
     "text": [
      "/anaconda3/lib/python3.6/site-packages/sklearn/linear_model/coordinate_descent.py:491: ConvergenceWarning: Objective did not converge. You might want to increase the number of iterations. Fitting data with very small alpha may cause precision problems.\n",
      "  ConvergenceWarning)\n"
     ]
    }
   ],
   "source": [
    "from sklearn.linear_model import Lasso\n",
    "best_degree = 2\n",
    "\n",
    "def LinLasso(i):\n",
    "    poly = PolynomialFeatures(degree=i)\n",
    "    X_train_poly = poly.fit_transform(X_train)\n",
    "    X_test_poly = poly.fit_transform(X_test)\n",
    "        \n",
    "    linlasso = Lasso(alpha=0.1, max_iter = 10000).fit(X_train_poly, y_train)\n",
    "        \n",
    "    r2_test = linlasso.score(X_test_poly, y_test)\n",
    "    return r2_test\n",
    "\n",
    "#print('For degree 12, lassos score is ', LinLasso(12))\n",
    "print('For degree ',best_degree,' lassos score is ', LinLasso(best_degree))"
   ]
  },
  {
   "cell_type": "markdown",
   "metadata": {},
   "source": [
    "Next we do a basic Ridge Regression"
   ]
  },
  {
   "cell_type": "code",
   "execution_count": 16,
   "metadata": {},
   "outputs": [
    {
     "name": "stdout",
     "output_type": "stream",
     "text": [
      "Housing dataset\n",
      "ridge regression linear model intercept: 0.0009485739296281395\n",
      "ridge regression linear model coeff:\n",
      "[ 0.00111642  0.00487968  0.00572681  0.00078463 -0.00687251  0.08712993\n",
      " -0.03652932  0.02024342 -0.02592647 -0.11657148]\n",
      "R-squared score (training): 0.001\n",
      "R-squared score (test): 0.001\n",
      "Number of non-zero features: 10\n"
     ]
    }
   ],
   "source": [
    "from sklearn.linear_model import Ridge\n",
    "from sklearn.preprocessing import MinMaxScaler\n",
    "scaler = MinMaxScaler()\n",
    "\n",
    "X_train_scaled = scaler.fit_transform(X_train)\n",
    "X_test_scaled = scaler.transform(X_test)\n",
    "\n",
    "linridge = Ridge(alpha=20.0).fit(X_train_scaled, y_train)\n",
    "\n",
    "print('Housing dataset')\n",
    "print('ridge regression linear model intercept: {}'\n",
    "     .format(linridge.intercept_))\n",
    "print('ridge regression linear model coeff:\\n{}'\n",
    "     .format(linridge.coef_))\n",
    "print('R-squared score (training): {:.3f}'\n",
    "     .format(linridge.score(X_train_scaled, y_train)))\n",
    "print('R-squared score (test): {:.3f}'\n",
    "     .format(linridge.score(X_test_scaled, y_test)))\n",
    "print('Number of non-zero features: {}'\n",
    "     .format(np.sum(linridge.coef_ != 0)))"
   ]
  },
  {
   "cell_type": "code",
   "execution_count": null,
   "metadata": {},
   "outputs": [],
   "source": []
  }
 ],
 "metadata": {
  "kernelspec": {
   "display_name": "Python 3",
   "language": "python",
   "name": "python3"
  },
  "language_info": {
   "codemirror_mode": {
    "name": "ipython",
    "version": 3
   },
   "file_extension": ".py",
   "mimetype": "text/x-python",
   "name": "python",
   "nbconvert_exporter": "python",
   "pygments_lexer": "ipython3",
   "version": "3.6.5"
  }
 },
 "nbformat": 4,
 "nbformat_minor": 2
}
